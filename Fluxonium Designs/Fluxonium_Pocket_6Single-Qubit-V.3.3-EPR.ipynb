{
 "cells": [
  {
   "cell_type": "markdown",
   "metadata": {},
   "source": [
    "# Fluxonium Design with 6 single qubits Version 3.3\n",
    "\n",
    "## Properties\n",
    "1. LaunchPads are 200um width and height\n",
    "2. Charge line has a bulp shape ending\n",
    "3. JJ Array_width = 410um, JJ_width = 120um\n",
    "4. L=200nH\n",
    "\n",
    "## Chages from V3.2\n",
    "1. Ec(chargin energy) 1.00 GHz, was 1.25 GHz\n",
    "2. Resonators: 6.00-8.00 GHz, were 5-7 GHz\n",
    "\n",
    "## Design and EPR analysis\n",
    "\n",
    "### Preparations"
   ]
  },
  {
   "cell_type": "code",
   "execution_count": 1,
   "metadata": {},
   "outputs": [],
   "source": [
    "# For convenience, let's begin by enabling\n",
    "# automatic reloading of modules when they change.\n",
    "%load_ext autoreload\n",
    "%autoreload 2\n",
    "\n",
    "import numpy as np\n",
    "from collections import OrderedDict\n",
    "\n",
    "import warnings\n",
    "warnings.filterwarnings('ignore')\n",
    "\n",
    "import qiskit_metal as metal\n",
    "from qiskit_metal import designs, draw\n",
    "from qiskit_metal import MetalGUI, Dict\n",
    "import matplotlib.pyplot as plt\n",
    "\n",
    "from qiskit_metal.toolbox_metal import math_and_overrides\n",
    "\n",
    "from qiskit_metal.qlibrary.core import QComponent\n",
    "\n",
    "from qiskit_metal.qlibrary.tlines.meandered import RouteMeander\n",
    "from qiskit_metal.qlibrary.tlines.pathfinder import RoutePathfinder\n",
    "from qiskit_metal.qlibrary.tlines.anchored_path import RouteAnchors\n",
    "\n",
    "from qiskit_metal.qlibrary.qubits.fluxoniumEPR import FluxoniumPocket\n",
    "\n",
    "from qiskit_metal.qlibrary.terminations.launchpad_wb import LaunchpadWirebond\n",
    "\n",
    "from qiskit_metal.qlibrary.terminations.open_to_ground_v2 import OpenToGround\n",
    "from qiskit_metal.renderers.renderer_ansys.ansys_renderer import QAnsysRenderer\n",
    "\n",
    "from qiskit_metal.analyses.sweep_and_optimize.sweeping import Sweeping\n",
    "\n",
    "\n",
    "from qiskit_metal.qlibrary.terminations.ebeam_marker_v2 import Markers\n",
    "from qiskit_metal.qlibrary.terminations.ebeam_frame import Frame\n",
    "\n",
    "import pyEPR as epr\n",
    "from qiskit_metal.analyses.quantization import EPRanalysis"
   ]
  },
  {
   "cell_type": "code",
   "execution_count": 2,
   "metadata": {},
   "outputs": [],
   "source": [
    "# Each time you create a new quantum circuit design,\n",
    "# you start by instantiating a QDesign class.\n",
    "\n",
    "# The design class `DesignPlanar` is best for 2D circuit designs.\n",
    "design = designs.DesignPlanar()\n",
    "design.chips.main.material = 'silicon'  # our substrate is Silicon\n",
    "# cpw_width and cpw_gap is defined from the beginnning if you need you can \n",
    "# change it later. But with this way one can be sure all the lines are having same width and gap.\n",
    "design.variables['cpw_width'] = '15 um'  \n",
    "design.variables['cpw_gap'] = '8.733 um'  \n",
    "design._chips['main']['size']['size_x'] = '9mm'  # Our device size is 9*9mm\n",
    "design._chips['main']['size']['size_y'] = '9mm'\n",
    "\n",
    "# If you disable the next line with \"overwrite_enabled\", then you will need to\n",
    "# delete a component [<component>.delete()] before recreating it.\n",
    "design.overwrite_enabled = True\n",
    "\n",
    "\n",
    "eig_qres = EPRanalysis(design, \"hfss\")\n",
    "hfss = design.renderers.hfss\n",
    "hfss = eig_qres.sim.renderer\n",
    "q3d = design.renderers.q3d\n",
    "\n",
    "# run the GUI \n",
    "gui = MetalGUI(design)"
   ]
  },
  {
   "cell_type": "code",
   "execution_count": 3,
   "metadata": {},
   "outputs": [],
   "source": [
    "from qiskit_metal.qlibrary.terminations.ebeam_marker_v2 import Markers\n",
    "from qiskit_metal.qlibrary.terminations.ebeam_frame import Frame\n",
    "\n",
    "## Markers for ebeam\n",
    "options = dict(pos_x='3.25mm', pos_y='4.25mm')\n",
    "mrk1 = Markers(design, 'marker1', options = options)\n",
    "\n",
    "options = dict(pos_x='-3.25mm', pos_y='4.25mm')\n",
    "mrk2 = Markers(design, 'marker2', options = options)\n",
    "\n",
    "options = dict(pos_x='-3.25mm', pos_y='-4.25mm')\n",
    "mrk3 = Markers(design, 'marker3', options = options)\n",
    "\n",
    "options = dict(pos_x='3.25mm', pos_y='-4.25mm')\n",
    "mrk4 = Markers(design, 'marker4', options = options)\n",
    "\n",
    "options = dict(chip='main')\n",
    "frame = Frame(design, 'frame', options = options)\n",
    "\n",
    "gui.rebuild()"
   ]
  },
  {
   "cell_type": "code",
   "execution_count": 4,
   "metadata": {
    "scrolled": true
   },
   "outputs": [],
   "source": [
    "#Setup the launchpad1 location and orientation\n",
    "\n",
    "## Read In launch pad\n",
    "launch_options = dict(chip='main', pos_x='-4.0mm', pos_y='-3.99mm', orientation='0',\n",
    "        lead_length='30um', pad_width='200um',\n",
    "        pad_height='200um', pad_gap='112um',\n",
    "                    )\n",
    "lp = LaunchpadWirebond(design, 'LPReadIn', options = launch_options)\n",
    "\n",
    "\n",
    "# Read Out launch pad\n",
    "launch_options = dict(chip='main', pos_x='4.0mm', pos_y='3.99mm', orientation='180',\n",
    "                      lead_length='30um', pad_width='200um',\n",
    "        pad_height='200um', pad_gap='112um',\n",
    "                    )\n",
    "lp = LaunchpadWirebond(design, 'LPReadOut', options = launch_options)\n",
    "\n",
    "\n",
    "Transmission_Line = {'pin_inputs':\n",
    "           {'start_pin': {'component': 'LPReadIn', 'pin': 'tie'},\n",
    "             'end_pin': {'component': 'LPReadOut', 'pin': 'tie'}},\n",
    "            'lead': {'start_straight': '3970um', 'end_straight': '3970um',\n",
    "                    # 'start_jogged_extension': jogs_in,\n",
    "                    # 'anchors': anchors1,\n",
    "                    }, \n",
    "                    'total_length': '8mm', 'fillet': \"90um\"\n",
    "            }\n",
    "\n",
    "TransLine = RoutePathfinder(design, 'TL', Transmission_Line)\n",
    "\n",
    "\n",
    "gui.rebuild()"
   ]
  },
  {
   "cell_type": "code",
   "execution_count": 5,
   "metadata": {
    "scrolled": true
   },
   "outputs": [],
   "source": [
    "## Q1 flux-bias and charge line's lauch pad\n",
    "launch_options = dict(chip='main', pos_x='-4.0mm', pos_y='-2.66mm', orientation='0',\n",
    "                      lead_length='30um', pad_width='200um',\n",
    "        pad_height='200um', pad_gap='112um',\n",
    "                    )\n",
    "lp = LaunchpadWirebond(design, 'LPCL1', options = launch_options)\n",
    "\n",
    "launch_options = dict(chip='main', pos_x='-4.0mm', pos_y='-1.33mm', orientation='0',\n",
    "                     lead_length='30um', pad_width='200um',\n",
    "        pad_height='200um', pad_gap='112um',\n",
    "                    )\n",
    "lp = LaunchpadWirebond(design, 'LPFB1', options = launch_options)\n",
    "\n",
    "\n",
    "## Q2 flux-bias and charge line's lauch pad\n",
    "launch_options = dict(chip='main', pos_x='-4.0mm', pos_y='0.0mm', orientation='0',\n",
    "                      lead_length='30um', pad_width='200um',\n",
    "        pad_height='200um', pad_gap='112um',\n",
    "                    )\n",
    "lp = LaunchpadWirebond(design, 'LPCL2', options = launch_options)\n",
    "\n",
    "launch_options = dict(chip='main', pos_x='-4.0mm', pos_y='+1.33mm', orientation='0',\n",
    "                      lead_length='30um', pad_width='200um',\n",
    "        pad_height='200um', pad_gap='112um',\n",
    "                    )\n",
    "lp = LaunchpadWirebond(design, 'LPFB2', options = launch_options)\n",
    "\n",
    "\n",
    "## Q3 flux-bias and charge line's lauch pad\n",
    "launch_options = dict(chip='main', pos_x='-4.0mm', pos_y='2.66mm', orientation='0',\n",
    "                      lead_length='30um', pad_width='200um',\n",
    "        pad_height='200um', pad_gap='112um',\n",
    "                    )\n",
    "lp = LaunchpadWirebond(design, 'LPCL3', options = launch_options)\n",
    "\n",
    "launch_options = dict(chip='main', pos_x='-4.0mm', pos_y='3.99mm', orientation='0',\n",
    "                      lead_length='30um', pad_width='200um',\n",
    "        pad_height='200um', pad_gap='112um',\n",
    "                    )\n",
    "lp = LaunchpadWirebond(design, 'LPFB3', options = launch_options)\n",
    "\n",
    "\n",
    "## Q4 flux-bias and charge line's lauch pad\n",
    "launch_options = dict(chip='main', pos_x='4.0mm', pos_y='2.66mm', orientation='180',\n",
    "                      lead_length='30um', pad_width='200um',\n",
    "        pad_height='200um', pad_gap='112um',\n",
    "                    )\n",
    "lp = LaunchpadWirebond(design, 'LPFB4', options = launch_options)\n",
    "\n",
    "launch_options = dict(chip='main', pos_x='4.0mm', pos_y='1.33mm', orientation='180',\n",
    "                      lead_length='30um', pad_width='200um',\n",
    "        pad_height='200um', pad_gap='112um',\n",
    "                    )\n",
    "lp = LaunchpadWirebond(design, 'LPCL4', options = launch_options)\n",
    "\n",
    "\n",
    "## Q5 flux-bias and charge line's lauch pad\n",
    "launch_options = dict(chip='main', pos_x='4.0mm', pos_y='0.0mm', orientation='180',\n",
    "                      lead_length='30um', pad_width='200um',\n",
    "        pad_height='200um', pad_gap='112um',\n",
    "                    )\n",
    "lp = LaunchpadWirebond(design, 'LPFB5', options = launch_options)\n",
    "\n",
    "launch_options = dict(chip='main', pos_x='4.0mm', pos_y='-1.33mm', orientation='180',\n",
    "                      lead_length='30um', pad_width='200um',\n",
    "        pad_height='200um', pad_gap='112um',\n",
    "                    )\n",
    "lp = LaunchpadWirebond(design, 'LPCL5', options = launch_options)\n",
    "\n",
    "\n",
    "## Q6 flux-bias and charge line's lauch pad\n",
    "launch_options = dict(chip='main', pos_x='4.0mm', pos_y='-2.66mm', orientation='180',\n",
    "                      lead_length='30um', pad_width='200um',\n",
    "        pad_height='200um', pad_gap='112um',\n",
    "                    )\n",
    "lp = LaunchpadWirebond(design, 'LPFB6', options = launch_options)\n",
    "\n",
    "launch_options = dict(chip='main', pos_x='4.0mm', pos_y='-3.99mm', orientation='180',\n",
    "                      lead_length='30um', pad_width='200um',\n",
    "        pad_height='200um', pad_gap='112um',\n",
    "                    )\n",
    "lp = LaunchpadWirebond(design, 'LPCL6', options = launch_options)\n",
    "\n",
    "\n",
    "gui.rebuild()"
   ]
  },
  {
   "cell_type": "code",
   "execution_count": 17,
   "metadata": {},
   "outputs": [],
   "source": [
    "from qiskit_metal.qlibrary.qubits.fluxoniumEPR_v2 import FluxoniumPocket\n",
    "\n",
    "gds_cell_name_jj = 'junction_0'\n",
    "gds_cell_name_inductor = 'jj_array0'\n",
    "\n",
    "# Q1 details\n",
    "options = dict(chip='main', nanowire = False, \n",
    "            orientation =90, pos_x = '-2.2mm', pos_y = '-2.3mm',\n",
    "            gds_cell_name=gds_cell_name_jj,\n",
    "            gds_cell_inductor=gds_cell_name_inductor ,\n",
    "               inductor_orientation='-1',\n",
    "               \n",
    "    flux_bias_line_options=Dict(make_fbl = True,\n",
    "           ), \n",
    "               \n",
    "    charge_line_options=Dict(loc_H = +1, make_cl = True,\n",
    "                            ),\n",
    "    readout_line_options=Dict(loc_H = -1, make_rol = True, \n",
    "              ) )\n",
    "               \n",
    "q1 = FluxoniumPocket(design,'Q1', options = dict(\n",
    "             **options))\n",
    "\n",
    "# Q6 details\n",
    "options = dict(chip='main', nanowire = False,\n",
    "        orientation =90, pos_x = '2.2mm', pos_y = '-3.2mm',\n",
    "        gds_cell_name=gds_cell_name_jj,\n",
    "        gds_cell_inductor=gds_cell_name_inductor ,\n",
    "               inductor_orientation='-1',\n",
    "               \n",
    "    flux_bias_line_options=Dict(make_fbl = True,\n",
    "        ), \n",
    "               \n",
    "    charge_line_options=Dict(loc_H = -1, make_cl = True,\n",
    "                            ), \n",
    "    readout_line_options=Dict(loc_H = +1, make_rol = True,\n",
    "              ) )\n",
    "               \n",
    "q6 = FluxoniumPocket(design,'Q6', options = dict(\n",
    "        **options))\n",
    "\n",
    "\n",
    "# Q2 details\n",
    "options = dict(chip='main', nanowire = False,\n",
    "        orientation =90, pos_x = '-2.2mm', pos_y = '0.0mm',\n",
    "        gds_cell_name=gds_cell_name_jj,\n",
    "        gds_cell_inductor=gds_cell_name_inductor ,\n",
    "               inductor_orientation='-1',\n",
    "               \n",
    "    flux_bias_line_options=Dict(make_fbl = True,\n",
    "         ), \n",
    "               \n",
    "    charge_line_options=Dict(loc_H = +1, make_cl = True,\n",
    "                            ),\n",
    "    readout_line_options=Dict(loc_H = -1, make_rol = True,\n",
    "              ) )\n",
    "               \n",
    "q2 = FluxoniumPocket(design,'Q2', options = dict(\n",
    "        **options))\n",
    "\n",
    "# Q5 details\n",
    "options = dict(chip='main', nanowire = False,\n",
    "        orientation =90, pos_x = '2.4mm', pos_y = '-0.8mm',\n",
    "        gds_cell_name=gds_cell_name_jj,\n",
    "               gds_cell_inductor=gds_cell_name_inductor ,\n",
    "               inductor_orientation='-1',\n",
    "                      \n",
    "    flux_bias_line_options=Dict(make_fbl = True,\n",
    "                            ), \n",
    "               \n",
    "    charge_line_options=Dict(loc_H = -1, make_cl = True,\n",
    "                            ), \n",
    "    readout_line_options=Dict(loc_H = +1, make_rol = True,\n",
    "              ) )\n",
    "               \n",
    "q5 = FluxoniumPocket(design,'Q5', options = dict(\n",
    "        **options))\n",
    "\n",
    "\n",
    "# Q3 details\n",
    "options = dict(chip='main', nanowire = False,\n",
    "        orientation =90, pos_x = '-2.5mm', pos_y = '3.0mm',\n",
    "        gds_cell_name=gds_cell_name_jj,\n",
    "        gds_cell_inductor=gds_cell_name_inductor ,\n",
    "               inductor_orientation='-1',\n",
    "               \n",
    "    flux_bias_line_options=Dict(make_fbl = True,\n",
    "        ), \n",
    "               \n",
    "    charge_line_options=Dict(loc_H = +1, make_cl = True,\n",
    "                            ),\n",
    "    readout_line_options=Dict(loc_H = -1, make_rol = True,\n",
    "              ) )\n",
    "               \n",
    "q3 = FluxoniumPocket(design,'Q3', options = dict(\n",
    "        **options))\n",
    "\n",
    "# Q4 details\n",
    "options = dict(chip='main', nanowire = False,\n",
    "        orientation =90, pos_x = '2.4mm', pos_y = '2.0mm',\n",
    "        gds_cell_name=gds_cell_name_jj,\n",
    "        gds_cell_inductor=gds_cell_name_inductor,\n",
    "               inductor_orientation='-1',\n",
    "               \n",
    "    flux_bias_line_options=Dict(make_fbl = True,\n",
    "        ), \n",
    "               \n",
    "    charge_line_options=Dict(loc_H = -1, make_cl = True,\n",
    "                            ),\n",
    "    readout_line_options=Dict(loc_H = 1, make_rol = True,\n",
    "              ) )\n",
    "               \n",
    "q4 = FluxoniumPocket(design,'Q4', options = dict(\n",
    "        **options))\n",
    "\n",
    "# Q JJ1 Trial details\n",
    "options = dict(chip='main',  nanowire = False,\n",
    "        orientation =90, pos_x = '-1.0mm', pos_y = '1.2mm',\n",
    "               pocket_width= '600um',\n",
    "        gds_cell_name=gds_cell_name_jj,\n",
    "               \n",
    "    flux_bias_line_options=Dict(make_fbl = False), \n",
    "               \n",
    "    charge_line_options=Dict(loc_H = -1, make_cl = False,\n",
    "                            ),\n",
    "    readout_line_options=Dict(loc_H = 1, make_rol = False,\n",
    "              ) )\n",
    "               \n",
    "qJJ1 = FluxoniumPocket(design,'QJJ1', options = dict(\n",
    "        **options))\n",
    "\n",
    "# Q JJ2 Trial details\n",
    "options = dict(chip='main', nanowire = False,\n",
    "        orientation =90, pos_x = '-1.0mm', pos_y = '1.4mm',\n",
    "               pocket_width= '600um',\n",
    "        gds_cell_name=gds_cell_name_jj,   \n",
    "               \n",
    "    flux_bias_line_options=Dict(make_fbl = False), \n",
    "               \n",
    "    charge_line_options=Dict(loc_H = -1, make_cl = False,\n",
    "                            ),\n",
    "    readout_line_options=Dict(loc_H = 1, make_rol = False,\n",
    "              ) )\n",
    "               \n",
    "qJJ2 = FluxoniumPocket(design,'QJJ2', options = dict(\n",
    "        **options))\n",
    "\n",
    "# Q JJ3 Trial details\n",
    "options = dict(chip='main', nanowire = False,\n",
    "        orientation =90, pos_x = '-1.0mm', pos_y = '1.6mm',\n",
    "               pocket_width= '600um',\n",
    "        gds_cell_name=gds_cell_name_jj,  \n",
    "               \n",
    "    flux_bias_line_options=Dict(make_fbl = False), \n",
    "               \n",
    "    charge_line_options=Dict(loc_H = -1, make_cl = False,\n",
    "                            ),\n",
    "    readout_line_options=Dict(loc_H = 1, make_rol = False,\n",
    "              ) )\n",
    "               \n",
    "qJJ3 = FluxoniumPocket(design,'QJJ3', options = dict(\n",
    "        **options))\n",
    "\n",
    "\n",
    "# Q Array1 details\n",
    "options = dict(chip='main', nanowire = False, \n",
    "            orientation =90, pos_x = '1.0mm', pos_y = '0.6mm',\n",
    "            gds_cell_inductor=gds_cell_name_inductor , pocket_width= '600um',\n",
    "               inductor_orientation='-1',\n",
    "               \n",
    "    flux_bias_line_options=Dict(make_fbl = False,\n",
    "                        ), \n",
    "               \n",
    "    charge_line_options=Dict(loc_H = +1, make_cl = False,\n",
    "               ),\n",
    "    readout_line_options=Dict(loc_H = -1, make_rol = False, \n",
    "              ) )\n",
    "               \n",
    "qArr1 = FluxoniumPocket(design,'QArr1', options = dict(\n",
    "             **options))\n",
    "\n",
    "\n",
    "# Q Array2 Trial details\n",
    "options = dict(chip='main', nanowire = False,\n",
    "        orientation =90, pos_x = '1.0mm', pos_y = '0.8mm',\n",
    "               pocket_width= '600um',\n",
    "        gds_cell_inductor=gds_cell_name_inductor ,   \n",
    "               inductor_orientation='-1',\n",
    "               \n",
    "    flux_bias_line_options=Dict(make_fbl = False,\n",
    "                               ), \n",
    "               \n",
    "    charge_line_options=Dict(loc_H = +1, make_cl = False,\n",
    "                            ),\n",
    "    readout_line_options=Dict(loc_H = -1, make_rol = False, \n",
    "              ) )\n",
    "               \n",
    "qArr2 = FluxoniumPocket(design,'QArr2', options = dict(\n",
    "        **options))\n",
    "\n",
    "# Q Array3 Trial details\n",
    "options = dict(chip='main', nanowire = False,\n",
    "        orientation =90, pos_x = '1.0mm', pos_y = '1.0mm',\n",
    "               pocket_width= '600um',\n",
    "        gds_cell_inductor=gds_cell_name_inductor , \n",
    "               inductor_orientation='-1',\n",
    "               \n",
    "    flux_bias_line_options=Dict(make_fbl = False,\n",
    "                      ), \n",
    "               \n",
    "    charge_line_options=Dict(loc_H = +1, make_cl = False,\n",
    "                            ),\n",
    "    readout_line_options=Dict(loc_H = -1, make_rol = False, \n",
    "              ) )\n",
    "               \n",
    "qArr3 = FluxoniumPocket(design,'QArr3', options = dict(\n",
    "        **options))\n",
    "\n",
    "\n",
    "gui.rebuild()"
   ]
  },
  {
   "cell_type": "markdown",
   "metadata": {},
   "source": [
    "## Creating the resonators\n",
    "After creating Qubits and Launch pads you can create the resonators, we use lambda/2 resonators. For that you need to have open_to_ground "
   ]
  },
  {
   "cell_type": "code",
   "execution_count": 18,
   "metadata": {},
   "outputs": [],
   "source": [
    "# Lambda/2 resonators - Resonator1\n",
    "\n",
    "otg1 = OpenToGround(design, 'otg1s', options=dict(chip='main', \n",
    "                 pos_x='-37.733um', pos_y='-2.8mm', orientation='270'))\n",
    "rt_meander = RouteMeander(design, 'cavity1',  Dict(meander=Dict(spacing='200um'),\n",
    "        total_length='7.4mm',\n",
    "        hfss_wire_bonds = True,\n",
    "        fillet='99um',\n",
    "        lead = dict(start_straight='250um'),\n",
    "        pin_inputs=Dict(\n",
    "            start_pin=Dict(component='otg1s', pin='open'),\n",
    "            end_pin=Dict(component='Q1', pin='readout_line')), ))\n",
    "\n",
    "gui.rebuild()"
   ]
  },
  {
   "cell_type": "code",
   "execution_count": 19,
   "metadata": {},
   "outputs": [],
   "source": [
    "# Lambda/2 resonators - Resonator6\n",
    "otg6 = OpenToGround(design, 'otg6s', options=dict(chip='main', pos_x='37.733um',  pos_y='-2.8mm', orientation='270'))\n",
    "rt_meander = RouteMeander(design, 'cavity6',  Dict(meander=Dict(spacing='200um'),\n",
    "        total_length='7.8mm',\n",
    "        hfss_wire_bonds = True,\n",
    "        fillet='99um',\n",
    "        lead = dict(start_straight='250um'),\n",
    "        pin_inputs=Dict(\n",
    "            start_pin=Dict(component='otg6s', pin='open'),\n",
    "            end_pin=Dict(component='Q6', pin='readout_line')), ))\n",
    "\n",
    "gui.rebuild()"
   ]
  },
  {
   "cell_type": "code",
   "execution_count": 20,
   "metadata": {
    "scrolled": true
   },
   "outputs": [],
   "source": [
    "# Lambda/2 resonators - Resonator2\n",
    "otg2 = OpenToGround(design, 'otg2s', options=dict(chip='main', pos_x='-37.733um',  pos_y='-0.2mm', orientation='270'))\n",
    "rt_meander = RouteMeander(design, 'cavity2',  Dict(meander=Dict(spacing='200um'),\n",
    "        total_length='8.21mm',\n",
    "        hfss_wire_bonds = True,\n",
    "        fillet='99um',\n",
    "        lead = dict(start_straight='250um'),\n",
    "        pin_inputs=Dict(\n",
    "            start_pin=Dict(component='otg2s', pin='open'),\n",
    "            end_pin=Dict(component='Q2', pin='readout_line')), ))\n",
    "\n",
    "gui.rebuild()"
   ]
  },
  {
   "cell_type": "code",
   "execution_count": 21,
   "metadata": {},
   "outputs": [],
   "source": [
    "# Lambda/2 resonators - Resonator5\n",
    "otg5 = OpenToGround(design, 'otg5s', options=dict(chip='main', pos_x='37.733um',  pos_y='-0.1mm', orientation='90'))\n",
    "rt_meander = RouteMeander(design, 'cavity5',  Dict(meander=Dict(spacing='200um'),\n",
    "        total_length='8.71mm',\n",
    "        hfss_wire_bonds = True,\n",
    "        fillet='99um',\n",
    "        lead = dict(start_straight='250um'),\n",
    "        pin_inputs=Dict(\n",
    "            start_pin=Dict(component='otg5s', pin='open'),\n",
    "            end_pin=Dict(component='Q5', pin='readout_line')), ))\n",
    "\n",
    "gui.rebuild()"
   ]
  },
  {
   "cell_type": "code",
   "execution_count": 22,
   "metadata": {},
   "outputs": [],
   "source": [
    "# Lambda/2 resonators - Resonator3\n",
    "otg3 = OpenToGround(design, 'otg3s', options=dict(chip='main', pos_x='-37.733um',  pos_y='2.6mm', orientation='270'))\n",
    "rt_meander = RouteMeander(design, 'cavity3',  Dict(meander=Dict(spacing='200um'),\n",
    "        total_length='9.27mm',\n",
    "        hfss_wire_bonds = True,\n",
    "        fillet='99um',\n",
    "        lead = dict(start_straight='250um'),\n",
    "        pin_inputs=Dict(\n",
    "            start_pin=Dict(component='otg3s', pin='open'),\n",
    "            end_pin=Dict(component='Q3', pin='readout_line')), ))\n",
    "\n",
    "gui.rebuild()"
   ]
  },
  {
   "cell_type": "code",
   "execution_count": 23,
   "metadata": {
    "scrolled": true
   },
   "outputs": [],
   "source": [
    "# Lambda/2 resonators - Resonator4\n",
    "otg4 = OpenToGround(design, 'otg4s', options=dict(chip='main', pos_x='37.733um',  pos_y='2.6mm', orientation='90'))\n",
    "rt_meander = RouteMeander(design, 'cavity4',  Dict(meander=Dict(spacing='200um'),\n",
    "        total_length='9.82mm',\n",
    "        hfss_wire_bonds = True,\n",
    "        fillet='99um',\n",
    "        lead = dict(start_straight='250um'),\n",
    "        pin_inputs=Dict(\n",
    "            start_pin=Dict(component='otg4s', pin='open'),\n",
    "            end_pin=Dict(component='Q4', pin='readout_line')), ))\n",
    "\n",
    "\n",
    "gui.rebuild()\n",
    "gui.autoscale()"
   ]
  },
  {
   "cell_type": "markdown",
   "metadata": {},
   "source": [
    "## Time to have the Charge and Flux-Bias lines"
   ]
  },
  {
   "cell_type": "code",
   "execution_count": null,
   "metadata": {
    "scrolled": true
   },
   "outputs": [],
   "source": [
    "# Charge Line for Q1\n",
    "\n",
    "XYCharge_LineQ1 = RoutePathfinder(design, 'XY_Gate1', \n",
    "        options = dict(chip='main', fillet='99um',\n",
    "            lead=dict(start_straight='150um', end_straight='600um', \n",
    "                      ),\n",
    "                         pin_inputs=Dict( start_pin=Dict(\n",
    "                                          component='Q1',\n",
    "                                               pin='charge_line'),\n",
    "                                                end_pin=Dict(\n",
    "                                            component='LPCL1',\n",
    "                                            pin='tie')\n",
    "                                            )))\n",
    "\n",
    "gui.rebuild()"
   ]
  },
  {
   "cell_type": "code",
   "execution_count": null,
   "metadata": {},
   "outputs": [],
   "source": [
    "# Flux Bias Line for Q1\n",
    "\n",
    "ZFluxBias_LineQ1 = RoutePathfinder(design, 'Z_Gate1', \n",
    "        options = dict(chip='main', fillet='99um',\n",
    "            lead=dict(start_straight='200um', \n",
    "        end_straight='400um', ),\n",
    "        pin_inputs=Dict(start_pin=Dict(component='Q1', \n",
    "              pin='flux_bias_line'),\n",
    "          end_pin=Dict(component='LPFB1', pin='tie')\n",
    "                                   )))\n",
    "\n",
    "gui.rebuild()"
   ]
  },
  {
   "cell_type": "code",
   "execution_count": null,
   "metadata": {},
   "outputs": [],
   "source": [
    "# Charge Lıne for Q2\n",
    "\n",
    "XYCharge_LineQ2 = RoutePathfinder(design, 'XY_Gate2', options = dict(chip='main',\n",
    "                        fillet='80um',\n",
    "                lead=dict(start_straight='150um', end_straight='850um'),\n",
    "                                            pin_inputs=Dict(\n",
    "                                                start_pin=Dict(\n",
    "                                                    component='Q2',\n",
    "                                                    pin='charge_line'),\n",
    "                                                end_pin=Dict(\n",
    "                                                    component='LPCL2',\n",
    "                                                    pin='tie')\n",
    "                                            )))\n",
    "\n",
    "gui.rebuild()"
   ]
  },
  {
   "cell_type": "code",
   "execution_count": null,
   "metadata": {
    "scrolled": true
   },
   "outputs": [],
   "source": [
    "# Flux Bias Line for Q2\n",
    "\n",
    "ZFluxBias_LineQ2 = RoutePathfinder(design, 'Z_Gate2', options = dict(chip='main',\n",
    "             fillet='99um',\n",
    "          lead=dict(start_straight='250um', end_straight='250um'),\n",
    "                                            pin_inputs=Dict(\n",
    "                                                start_pin=Dict(\n",
    "                                                    component='Q2',\n",
    "                                                    pin='flux_bias_line'),\n",
    "                                                end_pin=Dict(\n",
    "                                                    component='LPFB2',\n",
    "                                                    pin='tie')\n",
    "                                            )))\n",
    "\n",
    "gui.rebuild()"
   ]
  },
  {
   "cell_type": "code",
   "execution_count": null,
   "metadata": {},
   "outputs": [],
   "source": [
    "# Charge Line for Q3\n",
    "\n",
    "XYCharge_LineQ3 = RoutePathfinder(design, 'XY_Gate3', options = dict(chip='main',\n",
    "                         fillet='99um',\n",
    "       lead=dict(start_straight='250um', end_straight='500um'),\n",
    "                                            pin_inputs=Dict(\n",
    "                                                start_pin=Dict(\n",
    "                                                    component='Q3',\n",
    "                                                    pin='charge_line'),\n",
    "                                                end_pin=Dict(\n",
    "                                                    component='LPCL3',\n",
    "                                                    pin='tie')\n",
    "                                            )))\n",
    "gui.rebuild()"
   ]
  },
  {
   "cell_type": "code",
   "execution_count": null,
   "metadata": {},
   "outputs": [],
   "source": [
    "# Flux Bias Line for Q3\n",
    "\n",
    "ZFluxBias_LineQ3 = RoutePathfinder(design, 'Z_Gate3', options = dict(chip='main',\n",
    "                                   fillet='99um',\n",
    "           lead=dict(start_straight='100um', end_straight='200um'),\n",
    "                                            pin_inputs=Dict(\n",
    "                                                start_pin=Dict(\n",
    "                                                    component='Q3',\n",
    "                                                    pin='flux_bias_line'),\n",
    "                                                end_pin=Dict(\n",
    "                                                    component='LPFB3',\n",
    "                                                    pin='tie')\n",
    "                                            )))\n",
    "\n",
    "gui.rebuild()"
   ]
  },
  {
   "cell_type": "code",
   "execution_count": null,
   "metadata": {},
   "outputs": [],
   "source": [
    "# Charge Lıne for Q6\n",
    "\n",
    "XYCharge_LineQ6 = RoutePathfinder(design, 'XY_Gate6', \n",
    "        options = dict(chip='main', fillet='99um',\n",
    "        lead=dict(start_straight='100um', end_straight='250um'),\n",
    "    pin_inputs=Dict(start_pin=Dict(component='Q6', pin='charge_line'),\n",
    "    end_pin=Dict(component='LPCL6', pin='tie')\n",
    "                                            )))\n",
    "\n",
    "gui.rebuild()"
   ]
  },
  {
   "cell_type": "code",
   "execution_count": null,
   "metadata": {},
   "outputs": [],
   "source": [
    "# Flux Bias Line for Q6\n",
    "ZFluxBias_LineQ6 = RoutePathfinder(design, 'Z_Gate6', \n",
    "        options = dict(chip='main', fillet='99um',\n",
    "            lead=dict(start_straight='350um', end_straight='350um'),\n",
    "        pin_inputs=Dict(start_pin=Dict(component='Q6', \n",
    "              pin='flux_bias_line'),\n",
    "          end_pin=Dict(component='LPFB6', pin='tie')\n",
    "                                   )))\n",
    "\n",
    "gui.rebuild()"
   ]
  },
  {
   "cell_type": "code",
   "execution_count": null,
   "metadata": {},
   "outputs": [],
   "source": [
    "# Charge Lıne for Q5\n",
    "\n",
    "XYCharge_LineQ5 = RoutePathfinder(design, 'XY_Gate5', options = dict(chip='main',\n",
    "                          fillet='99um',\n",
    "            lead=dict(start_straight='150um', end_straight='850um'),\n",
    "                                            pin_inputs=Dict(\n",
    "                                                start_pin=Dict(\n",
    "                                                    component='Q5',\n",
    "                                                    pin='charge_line'),\n",
    "                                                end_pin=Dict(\n",
    "                                                    component='LPCL5',\n",
    "                                                    pin='tie')\n",
    "                                            )))\n",
    "\n",
    "gui.rebuild()"
   ]
  },
  {
   "cell_type": "code",
   "execution_count": null,
   "metadata": {},
   "outputs": [],
   "source": [
    "# Flux Bias Line for Q5\n",
    "\n",
    "ZFluxBias_LineQ5 = RoutePathfinder(design, 'Z_Gate5', options = dict(chip='main',\n",
    "                        fillet='99um',\n",
    "            lead=dict(start_straight='200um', end_straight='450um'),\n",
    "                                            pin_inputs=Dict(\n",
    "                                                start_pin=Dict(\n",
    "                                                    component='Q5',\n",
    "                                                    pin='flux_bias_line'),\n",
    "                                                end_pin=Dict(\n",
    "                                                    component='LPFB5',\n",
    "                                                    pin='tie')\n",
    "                                            )))\n",
    "gui.rebuild()"
   ]
  },
  {
   "cell_type": "code",
   "execution_count": null,
   "metadata": {},
   "outputs": [],
   "source": [
    "# Charge Line for Q4\n",
    "\n",
    "XYCharge_LineQ4 = RoutePathfinder(design, 'XY_Gate4', options = dict(chip='main',\n",
    "                                 fillet='99um',\n",
    "                    lead=dict(start_straight='200um', end_straight='550um'),\n",
    "                                            pin_inputs=Dict(\n",
    "                                                start_pin=Dict(\n",
    "                                                    component='Q4',\n",
    "                                                    pin='charge_line'),\n",
    "                                                end_pin=Dict(\n",
    "                                                    component='LPCL4',\n",
    "                                                    pin='tie')\n",
    "                                            )))\n",
    "gui.rebuild()"
   ]
  },
  {
   "cell_type": "code",
   "execution_count": null,
   "metadata": {},
   "outputs": [],
   "source": [
    "# Flux Bias Line for Q4\n",
    "\n",
    "ZFluxBias_LineQ4 = RoutePathfinder(design, 'Z_Gate4', options = dict(chip='main',\n",
    "                                            fillet='99um',\n",
    "                    lead=dict(start_straight='150um', end_straight='200um'),\n",
    "                                            pin_inputs=Dict(\n",
    "                                                start_pin=Dict(\n",
    "                                                    component='Q4',\n",
    "                                                    pin='flux_bias_line'),\n",
    "                                                end_pin=Dict(\n",
    "                                                    component='LPFB4',\n",
    "                                                    pin='tie')\n",
    "                                            )))\n",
    "gui.rebuild()"
   ]
  },
  {
   "cell_type": "code",
   "execution_count": null,
   "metadata": {},
   "outputs": [],
   "source": [
    "q1 #print Q1 information\n"
   ]
  },
  {
   "cell_type": "code",
   "execution_count": null,
   "metadata": {
    "scrolled": true
   },
   "outputs": [],
   "source": [
    "#Save screenshot as a .png formatted file.\n",
    "gui.screenshot()"
   ]
  },
  {
   "cell_type": "markdown",
   "metadata": {},
   "source": [
    "## Ansys QRenderer\n",
    "How to Render a Metal Design into Ansys"
   ]
  },
  {
   "cell_type": "code",
   "execution_count": 24,
   "metadata": {
    "scrolled": true
   },
   "outputs": [
    {
     "data": {
      "text/plain": [
       "{'Lj': '10nH',\n",
       " 'Cj': 0,\n",
       " '_Rj': 0,\n",
       " 'max_mesh_length_jj': '7um',\n",
       " 'project_path': None,\n",
       " 'project_name': None,\n",
       " 'design_name': None,\n",
       " 'x_buffer_width_mm': 0.2,\n",
       " 'y_buffer_width_mm': 0.2,\n",
       " 'wb_threshold': '400um',\n",
       " 'wb_offset': '0um',\n",
       " 'wb_size': 5,\n",
       " 'plot_ansys_fields_options': {'name': 'NAME:Mag_E1',\n",
       "  'UserSpecifyName': '0',\n",
       "  'UserSpecifyFolder': '0',\n",
       "  'QuantityName': 'Mag_E',\n",
       "  'PlotFolder': 'E Field',\n",
       "  'StreamlinePlot': 'False',\n",
       "  'AdjacentSidePlot': 'False',\n",
       "  'FullModelPlot': 'False',\n",
       "  'IntrinsicVar': \"Phase='0deg'\",\n",
       "  'PlotGeomInfo_0': '1',\n",
       "  'PlotGeomInfo_1': 'Surface',\n",
       "  'PlotGeomInfo_2': 'FacesList',\n",
       "  'PlotGeomInfo_3': '1'}}"
      ]
     },
     "execution_count": 24,
     "metadata": {},
     "output_type": "execute_result"
    }
   ],
   "source": [
    "from qiskit_metal.renderers.renderer_ansys.ansys_renderer import QAnsysRenderer\n",
    "QAnsysRenderer.default_options"
   ]
  },
  {
   "cell_type": "markdown",
   "metadata": {},
   "source": [
    "!!!Make sure the software is open completly."
   ]
  },
  {
   "cell_type": "code",
   "execution_count": null,
   "metadata": {},
   "outputs": [],
   "source": [
    "## Make sure the software is open completly then run the next cell.\n",
    "hfss.open_ansys()"
   ]
  },
  {
   "cell_type": "code",
   "execution_count": null,
   "metadata": {
    "scrolled": false
   },
   "outputs": [],
   "source": [
    "hfss.connect_ansys()"
   ]
  },
  {
   "cell_type": "markdown",
   "metadata": {},
   "source": [
    "First, we will simulate every resonator one by one to get their frequencies."
   ]
  },
  {
   "cell_type": "code",
   "execution_count": null,
   "metadata": {
    "scrolled": true
   },
   "outputs": [],
   "source": [
    "hfss.activate_eigenmode_design(\"cavity1\")"
   ]
  },
  {
   "cell_type": "code",
   "execution_count": null,
   "metadata": {},
   "outputs": [],
   "source": [
    "hfss.render_design(['cavity1'], [('cavity1', 'end'), ('cavity1', 'start')])"
   ]
  },
  {
   "cell_type": "code",
   "execution_count": null,
   "metadata": {},
   "outputs": [],
   "source": [
    "# Analysis properties\n",
    "setup = hfss.pinfo.setup\n",
    "setup.passes = 15\n",
    "print(f\"\"\"\n",
    "Number of eigenmodes to find             = {setup.n_modes}\n",
    "Number of simulation passes              = {setup.passes}\n",
    "Convergence freq max delta percent diff  = {setup.delta_f}\n",
    "\"\"\")\n",
    "\n",
    "pinfo = hfss.pinfo\n",
    "setup.analyze()\n",
    "\n",
    "hfss.plot_convergences()"
   ]
  },
  {
   "cell_type": "code",
   "execution_count": null,
   "metadata": {},
   "outputs": [],
   "source": [
    "hfss.modeler._modeler.ShowWindow()\n",
    "hfss.plot_ansys_fields('main')\n",
    "hfss.save_screenshot()"
   ]
  },
  {
   "cell_type": "code",
   "execution_count": null,
   "metadata": {
    "scrolled": true
   },
   "outputs": [],
   "source": [
    "hfss.epr_get_frequencies()"
   ]
  },
  {
   "cell_type": "code",
   "execution_count": null,
   "metadata": {},
   "outputs": [],
   "source": [
    "hfss.activate_eigenmode_design(\"cavity6\")"
   ]
  },
  {
   "cell_type": "code",
   "execution_count": null,
   "metadata": {},
   "outputs": [],
   "source": [
    "hfss.render_design(['cavity6'], [('cavity6', 'end'), ('cavity6', 'start')])"
   ]
  },
  {
   "cell_type": "code",
   "execution_count": null,
   "metadata": {},
   "outputs": [],
   "source": [
    "# Analysis properties\n",
    "setup = hfss.pinfo.setup\n",
    "setup.passes = 15\n",
    "print(f\"\"\"\n",
    "Number of eigenmodes to find             = {setup.n_modes}\n",
    "Number of simulation passes              = {setup.passes}\n",
    "Convergence freq max delta percent diff  = {setup.delta_f}\n",
    "\"\"\")\n",
    "\n",
    "pinfo = hfss.pinfo\n",
    "setup.analyze()\n",
    "\n",
    "hfss.plot_convergences()"
   ]
  },
  {
   "cell_type": "code",
   "execution_count": null,
   "metadata": {},
   "outputs": [],
   "source": [
    "hfss.modeler._modeler.ShowWindow()\n",
    "hfss.plot_ansys_fields('main')\n",
    "hfss.save_screenshot()"
   ]
  },
  {
   "cell_type": "code",
   "execution_count": null,
   "metadata": {},
   "outputs": [],
   "source": [
    "hfss.epr_get_frequencies()"
   ]
  },
  {
   "cell_type": "code",
   "execution_count": null,
   "metadata": {},
   "outputs": [],
   "source": [
    "hfss.activate_eigenmode_design(\"cavity2\")"
   ]
  },
  {
   "cell_type": "code",
   "execution_count": null,
   "metadata": {},
   "outputs": [],
   "source": [
    "hfss.render_design(['cavity2'], [('cavity2', 'end'), ('cavity2', 'start')])"
   ]
  },
  {
   "cell_type": "code",
   "execution_count": null,
   "metadata": {},
   "outputs": [],
   "source": [
    "# Analysis properties\n",
    "setup = hfss.pinfo.setup\n",
    "setup.passes = 15\n",
    "print(f\"\"\"\n",
    "Number of eigenmodes to find             = {setup.n_modes}\n",
    "Number of simulation passes              = {setup.passes}\n",
    "Convergence freq max delta percent diff  = {setup.delta_f}\n",
    "\"\"\")\n",
    "\n",
    "pinfo = hfss.pinfo\n",
    "setup.analyze()\n",
    "\n",
    "hfss.plot_convergences()"
   ]
  },
  {
   "cell_type": "code",
   "execution_count": null,
   "metadata": {},
   "outputs": [],
   "source": [
    "hfss.save_screenshot()"
   ]
  },
  {
   "cell_type": "code",
   "execution_count": null,
   "metadata": {},
   "outputs": [],
   "source": [
    "hfss.modeler._modeler.ShowWindow()\n",
    "hfss.plot_ansys_fields('main')\n",
    "hfss.save_screenshot()"
   ]
  },
  {
   "cell_type": "code",
   "execution_count": null,
   "metadata": {},
   "outputs": [],
   "source": [
    "hfss.epr_get_frequencies()"
   ]
  },
  {
   "cell_type": "code",
   "execution_count": null,
   "metadata": {},
   "outputs": [],
   "source": [
    "hfss.activate_eigenmode_design(\"cavity5\")"
   ]
  },
  {
   "cell_type": "code",
   "execution_count": null,
   "metadata": {},
   "outputs": [],
   "source": [
    "hfss.render_design(['cavity5'], [('cavity5', 'end'), ('cavity5', 'start')])"
   ]
  },
  {
   "cell_type": "code",
   "execution_count": null,
   "metadata": {},
   "outputs": [],
   "source": [
    "# Analysis properties\n",
    "setup = hfss.pinfo.setup\n",
    "setup.passes = 15\n",
    "print(f\"\"\"\n",
    "Number of eigenmodes to find             = {setup.n_modes}\n",
    "Number of simulation passes              = {setup.passes}\n",
    "Convergence freq max delta percent diff  = {setup.delta_f}\n",
    "\"\"\")\n",
    "\n",
    "pinfo = hfss.pinfo\n",
    "setup.analyze()\n",
    "\n",
    "hfss.plot_convergences()"
   ]
  },
  {
   "cell_type": "code",
   "execution_count": null,
   "metadata": {},
   "outputs": [],
   "source": [
    "hfss.modeler._modeler.ShowWindow()\n",
    "hfss.plot_ansys_fields('main')\n",
    "hfss.save_screenshot()"
   ]
  },
  {
   "cell_type": "code",
   "execution_count": null,
   "metadata": {},
   "outputs": [],
   "source": [
    "hfss.epr_get_frequencies()"
   ]
  },
  {
   "cell_type": "code",
   "execution_count": null,
   "metadata": {},
   "outputs": [],
   "source": [
    "hfss.activate_eigenmode_design(\"cavity3\")"
   ]
  },
  {
   "cell_type": "code",
   "execution_count": null,
   "metadata": {},
   "outputs": [],
   "source": [
    "hfss.render_design(['cavity3'], [('cavity3', 'end'), ('cavity3', 'start')])"
   ]
  },
  {
   "cell_type": "code",
   "execution_count": null,
   "metadata": {},
   "outputs": [],
   "source": [
    "# Analysis properties\n",
    "setup = hfss.pinfo.setup\n",
    "setup.passes = 15\n",
    "print(f\"\"\"\n",
    "Number of eigenmodes to find             = {setup.n_modes}\n",
    "Number of simulation passes              = {setup.passes}\n",
    "Convergence freq max delta percent diff  = {setup.delta_f}\n",
    "\"\"\")\n",
    "\n",
    "pinfo = hfss.pinfo\n",
    "setup.analyze()\n",
    "\n",
    "hfss.plot_convergences()"
   ]
  },
  {
   "cell_type": "code",
   "execution_count": null,
   "metadata": {},
   "outputs": [],
   "source": [
    "hfss.modeler._modeler.ShowWindow()\n",
    "hfss.plot_ansys_fields('main')\n",
    "hfss.save_screenshot()"
   ]
  },
  {
   "cell_type": "code",
   "execution_count": null,
   "metadata": {},
   "outputs": [],
   "source": [
    "hfss.epr_get_frequencies()"
   ]
  },
  {
   "cell_type": "code",
   "execution_count": null,
   "metadata": {},
   "outputs": [],
   "source": [
    "hfss.activate_eigenmode_design(\"cavity4\")"
   ]
  },
  {
   "cell_type": "code",
   "execution_count": null,
   "metadata": {},
   "outputs": [],
   "source": [
    "hfss.render_design(['cavity4'], [('cavity4', 'end'), ('cavity4', 'start')])"
   ]
  },
  {
   "cell_type": "code",
   "execution_count": null,
   "metadata": {},
   "outputs": [],
   "source": [
    "# Analysis properties\n",
    "setup = hfss.pinfo.setup\n",
    "setup.passes = 15\n",
    "print(f\"\"\"\n",
    "Number of eigenmodes to find             = {setup.n_modes}\n",
    "Number of simulation passes              = {setup.passes}\n",
    "Convergence freq max delta percent diff  = {setup.delta_f}\n",
    "\"\"\")\n",
    "\n",
    "pinfo = hfss.pinfo\n",
    "setup.analyze()\n",
    "\n",
    "hfss.plot_convergences()"
   ]
  },
  {
   "cell_type": "code",
   "execution_count": null,
   "metadata": {},
   "outputs": [],
   "source": [
    "hfss.modeler._modeler.ShowWindow()\n",
    "hfss.plot_ansys_fields('main')\n",
    "hfss.save_screenshot()"
   ]
  },
  {
   "cell_type": "code",
   "execution_count": null,
   "metadata": {},
   "outputs": [],
   "source": [
    "hfss.epr_get_frequencies()"
   ]
  },
  {
   "cell_type": "code",
   "execution_count": null,
   "metadata": {},
   "outputs": [],
   "source": [
    "QAnsysRenderer.get_template_options(design)"
   ]
  },
  {
   "cell_type": "code",
   "execution_count": null,
   "metadata": {},
   "outputs": [],
   "source": [
    "QAnsysRenderer.default_setup"
   ]
  },
  {
   "cell_type": "code",
   "execution_count": null,
   "metadata": {},
   "outputs": [],
   "source": [
    "# Run this cell only if you are done with ANSYS\n",
    "hfss.disconnect_ansys()"
   ]
  },
  {
   "cell_type": "markdown",
   "metadata": {},
   "source": [
    "## Now, we can use 2 eigenmodes to get the resonator and the qubit frequencies.\n",
    "# Before one could get the BARE frequencies of a resonator, after this step you will get the DRESSED frequency of the resonator"
   ]
  },
  {
   "cell_type": "code",
   "execution_count": null,
   "metadata": {},
   "outputs": [],
   "source": [
    "hfss.activate_eigenmode_design(\"Q1_Res1\")"
   ]
  },
  {
   "cell_type": "code",
   "execution_count": null,
   "metadata": {},
   "outputs": [],
   "source": [
    "hfss.options['x_buffer_width_mm'] = 0.9\n",
    "hfss.options['y_buffer_width_mm'] = 0.9\n",
    "hfss.options"
   ]
  },
  {
   "cell_type": "code",
   "execution_count": null,
   "metadata": {},
   "outputs": [],
   "source": [
    "design.qgeometry.tables['junction']"
   ]
  },
  {
   "cell_type": "code",
   "execution_count": null,
   "metadata": {},
   "outputs": [],
   "source": [
    "hfss.render_design(['Q1', 'cavity1', 'otg1s'],[('cavity1', 'end')])"
   ]
  },
  {
   "cell_type": "code",
   "execution_count": null,
   "metadata": {},
   "outputs": [],
   "source": [
    "hfss.save_screenshot()"
   ]
  },
  {
   "cell_type": "code",
   "execution_count": null,
   "metadata": {
    "scrolled": true
   },
   "outputs": [],
   "source": [
    "# Analysis properties\n",
    "setup = hfss.pinfo.setup\n",
    "setup.n_modes = 2\n",
    "setup.passes = 15\n",
    "#setup.delta_f = 0.05\n",
    "print(f\"\"\"\n",
    "Number of eigenmodes to find             = {setup.n_modes}\n",
    "Number of simulation passes              = {setup.passes}\n",
    "Convergence freq max delta percent diff  = {setup.delta_f}\n",
    "\"\"\")\n",
    "\n",
    "pinfo = hfss.pinfo\n",
    "pinfo.design.set_variable('Lj', '34.38 nH')\n",
    "pinfo.design.set_variable('Cj', '0 fF')\n",
    "setup.analyze()\n",
    "\n",
    "hfss.plot_convergences()"
   ]
  },
  {
   "cell_type": "code",
   "execution_count": null,
   "metadata": {
    "scrolled": true
   },
   "outputs": [],
   "source": [
    "hfss.modeler._modeler.ShowWindow()\n",
    "hfss.plot_ansys_fields('main')\n",
    "hfss.save_screenshot()"
   ]
  },
  {
   "cell_type": "code",
   "execution_count": null,
   "metadata": {},
   "outputs": [],
   "source": [
    "hfss.plot_ansys_delete(['Mag_E1'])"
   ]
  },
  {
   "cell_type": "code",
   "execution_count": null,
   "metadata": {},
   "outputs": [],
   "source": [
    "hfss.set_mode(2, \"Setup\")"
   ]
  },
  {
   "cell_type": "code",
   "execution_count": null,
   "metadata": {},
   "outputs": [],
   "source": [
    "hfss.modeler._modeler.ShowWindow()\n",
    "hfss.plot_ansys_fields('main')\n",
    "hfss.save_screenshot()"
   ]
  },
  {
   "cell_type": "code",
   "execution_count": null,
   "metadata": {},
   "outputs": [],
   "source": [
    "hfss.save_screenshot()"
   ]
  },
  {
   "cell_type": "code",
   "execution_count": null,
   "metadata": {},
   "outputs": [],
   "source": [
    "hfss.plot_ansys_delete(['Mag_E1'])"
   ]
  },
  {
   "cell_type": "code",
   "execution_count": null,
   "metadata": {},
   "outputs": [],
   "source": []
  },
  {
   "cell_type": "markdown",
   "metadata": {},
   "source": [
    "# Finite Element Analysis with EPR\n",
    "\n",
    "After this point, you have to use the EPR version for Fluxonium and you need to have a new environment for that.\n",
    "You can use that environment from the beginning too. "
   ]
  },
  {
   "cell_type": "code",
   "execution_count": 25,
   "metadata": {},
   "outputs": [],
   "source": [
    "eig_qb = EPRanalysis(design,\"hfss\")"
   ]
  },
  {
   "cell_type": "markdown",
   "metadata": {},
   "source": [
    "# Q1 and Res 1 "
   ]
  },
  {
   "cell_type": "code",
   "execution_count": 26,
   "metadata": {},
   "outputs": [
    {
     "data": {
      "text/plain": [
       "{'name': 'Setup',\n",
       " 'reuse_selected_design': True,\n",
       " 'reuse_setup': True,\n",
       " 'min_freq_ghz': 1,\n",
       " 'n_modes': 2,\n",
       " 'max_delta_f': 0.1,\n",
       " 'max_passes': 12,\n",
       " 'min_passes': 1,\n",
       " 'min_converged': 1,\n",
       " 'pct_refinement': 30,\n",
       " 'basis_order': 1,\n",
       " 'vars': {'Lj': '34.3nH', 'Cj': '0.0nH', 'Ls': '200nH'}}"
      ]
     },
     "execution_count": 26,
     "metadata": {},
     "output_type": "execute_result"
    }
   ],
   "source": [
    "eig_qb.sim.setup_update(n_modes = 2,\n",
    "                        max_delta_f = 0.1,\n",
    "                        min_freq_ghz = 1,\n",
    "                        max_passes = 12)\n",
    "eig_qb.sim.setup.vars.Lj = '34.3nH' # targetted E_j=4.75GHz\n",
    "eig_qb.sim.setup.vars.Cj = '0.0nH'\n",
    "eig_qb.sim.setup.vars.Ls = q1.options.l_inductance\n",
    "\n",
    "eig_qb.sim.setup"
   ]
  },
  {
   "cell_type": "code",
   "execution_count": 27,
   "metadata": {
    "scrolled": true
   },
   "outputs": [
    {
     "name": "stderr",
     "output_type": "stream",
     "text": [
      "INFO 09:00PM [connect_project]: Connecting to Ansys Desktop API...\n",
      "INFO 09:00PM [load_ansys_project]: \tOpened Ansys App\n",
      "INFO 09:00PM [load_ansys_project]: \tOpened Ansys Desktop v2020.2.0\n",
      "INFO 09:00PM [load_ansys_project]: \tOpened Ansys Project\n",
      "\tFolder:    C:/Users/figenyilmaz/Documents/Ansoft/\n",
      "\tProject:   Project49\n",
      "INFO 09:00PM [connect_design]: No active design found (or error getting active design).\n",
      "INFO 09:00PM [connect]: \t Connected to project \"Project49\". No design detected\n",
      "INFO 09:00PM [connect_design]: \tOpened active design\n",
      "\tDesign:    FluxoniumEPR_hfss [Solution type: Eigenmode]\n",
      "WARNING 09:00PM [connect_setup]: \tNo design setup detected.\n",
      "WARNING 09:00PM [connect_setup]: \tCreating eigenmode default setup.\n",
      "INFO 09:00PM [get_setup]: \tOpened setup `Setup`  (<class 'pyEPR.ansys.HfssEMSetup'>)\n",
      "INFO 09:00PM [get_setup]: \tOpened setup `Setup`  (<class 'pyEPR.ansys.HfssEMSetup'>)\n",
      "INFO 09:00PM [analyze]: Analyzing setup Setup\n",
      "09:11PM 57s INFO [get_f_convergence]: Saved convergences to C:\\Users\\figenyilmaz\\Desktop\\GitLab\\figen-qiskit-metal\\Fluxonium Designs\\hfss_eig_f_convergence.csv\n"
     ]
    }
   ],
   "source": [
    "eig_qb.sim.run(name=\"FluxoniumEPR\", components=['Q1', 'cavity1', 'otg1s'], open_terminations=[], box_plus_buffer = True)"
   ]
  },
  {
   "cell_type": "code",
   "execution_count": 28,
   "metadata": {},
   "outputs": [
    {
     "data": {
      "text/html": [
       "<div>\n",
       "<style scoped>\n",
       "    .dataframe tbody tr th:only-of-type {\n",
       "        vertical-align: middle;\n",
       "    }\n",
       "\n",
       "    .dataframe tbody tr th {\n",
       "        vertical-align: top;\n",
       "    }\n",
       "\n",
       "    .dataframe thead th {\n",
       "        text-align: right;\n",
       "    }\n",
       "</style>\n",
       "<table border=\"1\" class=\"dataframe\">\n",
       "  <thead>\n",
       "    <tr style=\"text-align: right;\">\n",
       "      <th></th>\n",
       "      <th>re(Mode(1)) [g]</th>\n",
       "      <th>re(Mode(2)) [g]</th>\n",
       "    </tr>\n",
       "    <tr>\n",
       "      <th>Pass []</th>\n",
       "      <th></th>\n",
       "      <th></th>\n",
       "    </tr>\n",
       "  </thead>\n",
       "  <tbody>\n",
       "    <tr>\n",
       "      <th>1</th>\n",
       "      <td>3.950215</td>\n",
       "      <td>5.339629</td>\n",
       "    </tr>\n",
       "    <tr>\n",
       "      <th>2</th>\n",
       "      <td>4.707301</td>\n",
       "      <td>5.716074</td>\n",
       "    </tr>\n",
       "    <tr>\n",
       "      <th>3</th>\n",
       "      <td>5.112197</td>\n",
       "      <td>5.889477</td>\n",
       "    </tr>\n",
       "    <tr>\n",
       "      <th>4</th>\n",
       "      <td>5.668083</td>\n",
       "      <td>6.422763</td>\n",
       "    </tr>\n",
       "    <tr>\n",
       "      <th>5</th>\n",
       "      <td>5.894121</td>\n",
       "      <td>6.763241</td>\n",
       "    </tr>\n",
       "    <tr>\n",
       "      <th>6</th>\n",
       "      <td>6.011019</td>\n",
       "      <td>6.886078</td>\n",
       "    </tr>\n",
       "    <tr>\n",
       "      <th>7</th>\n",
       "      <td>6.131316</td>\n",
       "      <td>6.954929</td>\n",
       "    </tr>\n",
       "    <tr>\n",
       "      <th>8</th>\n",
       "      <td>6.169188</td>\n",
       "      <td>7.005250</td>\n",
       "    </tr>\n",
       "    <tr>\n",
       "      <th>9</th>\n",
       "      <td>6.184896</td>\n",
       "      <td>7.027050</td>\n",
       "    </tr>\n",
       "    <tr>\n",
       "      <th>10</th>\n",
       "      <td>6.208960</td>\n",
       "      <td>7.041558</td>\n",
       "    </tr>\n",
       "    <tr>\n",
       "      <th>11</th>\n",
       "      <td>6.270171</td>\n",
       "      <td>7.053036</td>\n",
       "    </tr>\n",
       "    <tr>\n",
       "      <th>12</th>\n",
       "      <td>6.302547</td>\n",
       "      <td>7.060388</td>\n",
       "    </tr>\n",
       "  </tbody>\n",
       "</table>\n",
       "</div>"
      ],
      "text/plain": [
       "         re(Mode(1)) [g]  re(Mode(2)) [g]\n",
       "Pass []                                  \n",
       "1               3.950215         5.339629\n",
       "2               4.707301         5.716074\n",
       "3               5.112197         5.889477\n",
       "4               5.668083         6.422763\n",
       "5               5.894121         6.763241\n",
       "6               6.011019         6.886078\n",
       "7               6.131316         6.954929\n",
       "8               6.169188         7.005250\n",
       "9               6.184896         7.027050\n",
       "10              6.208960         7.041558\n",
       "11              6.270171         7.053036\n",
       "12              6.302547         7.060388"
      ]
     },
     "execution_count": 28,
     "metadata": {},
     "output_type": "execute_result"
    }
   ],
   "source": [
    "eig_qb.sim.convergence_f"
   ]
  },
  {
   "cell_type": "markdown",
   "metadata": {},
   "source": [
    "### Run EPR analysis\n",
    "\n",
    "Perform EPR analysis for all modes and variations. Here, Quantum Analysis starts."
   ]
  },
  {
   "cell_type": "code",
   "execution_count": 38,
   "metadata": {},
   "outputs": [
    {
     "name": "stderr",
     "output_type": "stream",
     "text": [
      "09:52PM 12s WARNING [add_junction]: junction already defined. Overwriting inductor\n"
     ]
    },
    {
     "data": {
      "text/plain": [
       "{'junctions': {'jj': {'Lj_variable': 'Lj',\n",
       "   'Cj_variable': 'Cj',\n",
       "   'rect': 'JJ_rect_Lj_Q1_rect_jj',\n",
       "   'line': 'JJ_Lj_Q1_rect_jj_'},\n",
       "  'inductor': {'Lj_variable': 'Ls',\n",
       "   'Cj_variable': 'Cj',\n",
       "   'rect': 'JJ_rect_Lj_Q1_inductor',\n",
       "   'line': 'JJ_Lj_Q1_inductor_'}},\n",
       " 'dissipatives': {'dielectrics_bulk': ['main']},\n",
       " 'cos_trunc': 6,\n",
       " 'fock_trunc': 20,\n",
       " 'flux': 0.0,\n",
       " 'basis': 'HO',\n",
       " 'sweep_variable': 'Lj'}"
      ]
     },
     "execution_count": 38,
     "metadata": {},
     "output_type": "execute_result"
    }
   ],
   "source": [
    "# Add the geometry of the rectangle  and line of the inductor to the list of junctions\n",
    "eig_qb.setup.junctions.jj.rect = 'JJ_rect_Lj_Q1_rect_jj'\n",
    "eig_qb.setup.junctions.jj.line = 'JJ_Lj_Q1_rect_jj_'\n",
    "\n",
    "eig_qb.add_junction(name_junction ='inductor')\n",
    "eig_qb.setup.junctions.inductor.Lj_variable = 'Ls'\n",
    "eig_qb.setup.junctions.inductor.rect = 'JJ_rect_Lj_Q1_inductor'\n",
    "eig_qb.setup.junctions.inductor.line = 'JJ_Lj_Q1_inductor_'\n",
    "# eig_qb.setup.junctions.inductor.is_junction = False\n",
    "\n",
    "# Set up th EPR analysis parameters\n",
    "eig_qb.setup.fock_trunc = 20\n",
    "eig_qb.setup.cos_trunc = 6\n",
    "eig_qb.setup.flux = 0.0\n",
    "\n",
    "eig_qb.setup.basis = 'HO'\n",
    "\n",
    "# eig_qb.setup.sweep_variable = 'flux'   #--- This would be nice to implement to get a sweep over flux bias \n",
    "eig_qb.setup"
   ]
  },
  {
   "cell_type": "code",
   "execution_count": 39,
   "metadata": {},
   "outputs": [
    {
     "name": "stdout",
     "output_type": "stream",
     "text": [
      "Design \"FluxoniumEPR_hfss\" info:\n",
      "\t# eigenmodes    2\n",
      "\t# variations    1\n",
      "Design \"FluxoniumEPR_hfss\" info:\n",
      "\t# eigenmodes    2\n",
      "\t# variations    1\n",
      "Design \"FluxoniumEPR_hfss\" info:\n",
      "\t# eigenmodes    2\n",
      "\t# variations    1\n",
      "\n",
      "        energy_elec_all       = 5.46086249772797e-24\n",
      "        energy_elec_substrate = 5.02284224832369e-24\n",
      "        EPR of substrate = 92.0%\n",
      "\n",
      "        energy_mag    = 5.42843300348447e-24\n",
      "        energy_mag % of energy_elec_all  = 99.4%\n",
      "        \n",
      "\n",
      "Variation 0  [1/1]\n",
      "\n",
      "  \u001b[1mMode 0 at 6.30 GHz   [1/2]\u001b[0m\n",
      "    Calculating ℰ_magnetic,ℰ_electric\n",
      "       (ℰ_E-ℰ_H)/ℰ_E       ℰ_E       ℰ_H\n",
      "               98.9%  1.331e-25 1.496e-27\n",
      "\n",
      "    Calculating junction energy participation ration (EPR)\n",
      "\tmethod=`line_voltage`. First estimates:\n",
      "\tjunction        EPR p_0j   sign s_0j    (p_capacitive)\n",
      "\t\tEnergy fraction (Lj over Lj&Cj)= 90.29%\n",
      "\tjj              0.845082  (+)        0.0909107\n",
      "\t\tEnergy fraction (Lj over Lj&Cj)= 61.45%\n",
      "\tinductor        0.145233  (+)        0.0910996\n",
      "\t\t(U_tot_cap-U_tot_ind)/mean=8.26%\n",
      "Calculating Qdielectric_main for mode 0 (0/1)\n",
      "p_dielectric_main_0 = 0.9151717693431135\n",
      "\n",
      "  \u001b[1mMode 1 at 7.06 GHz   [2/2]\u001b[0m\n",
      "    Calculating ℰ_magnetic,ℰ_electric\n",
      "       (ℰ_E-ℰ_H)/ℰ_E       ℰ_E       ℰ_H\n",
      "                0.6%   2.73e-24 2.714e-24\n",
      "\n",
      "    Calculating junction energy participation ration (EPR)\n",
      "\tmethod=`line_voltage`. First estimates:\n",
      "\tjunction        EPR p_1j   sign s_1j    (p_capacitive)\n",
      "\t\tEnergy fraction (Lj over Lj&Cj)= 88.11%\n",
      "\tjj              0.00510544  (+)        0.000689246\n",
      "\t\tEnergy fraction (Lj over Lj&Cj)= 55.95%\n",
      "\tinductor        0.000877262  (+)        0.000690568\n",
      "\t\t(U_tot_cap-U_tot_ind)/mean=0.07%\n",
      "Calculating Qdielectric_main for mode 1 (1/1)\n",
      "p_dielectric_main_1 = 0.9197891817297138\n",
      "\n",
      "ANALYSIS DONE. Data saved to:\n",
      "\n",
      "C:\\data-pyEPR\\Project49\\FluxoniumEPR_hfss\\2023-04-24 21-52-15.npz\n",
      "\n",
      "\n"
     ]
    }
   ],
   "source": [
    "# eig_qb.run_epr()\n",
    "#### equivalent individual calls\n",
    "s = eig_qb.setup\n",
    "eig_qb.epr_start()\n",
    "eig_qb.get_stored_energy()\n",
    "eig_qb.run_analysis()"
   ]
  },
  {
   "cell_type": "code",
   "execution_count": 40,
   "metadata": {
    "scrolled": true
   },
   "outputs": [
    {
     "name": "stderr",
     "output_type": "stream",
     "text": [
      "WARNING 09:53PM [__init__]: <p>Error: <class 'IndexError'></p>\n",
      "ERROR 09:53PM [_get_participation_normalized]: WARNING: U_tot_cap-U_tot_ind / mean = 16.5% is > 15%.                     \n",
      "Is the simulation converged? Proceed with caution\n"
     ]
    },
    {
     "name": "stdout",
     "output_type": "stream",
     "text": [
      "\t Differences in variations:\n",
      "\n",
      "\n",
      "\n",
      " . . . . . . . . . . . . . . . . . . . . . . . . . . . . . . . . . . . . . . . . \n",
      "Variation 0\n",
      "\n",
      "[3.43e-08 2.00e-07]\n",
      "[0]\n",
      "Using Full Cosine Potential\n",
      "ϕzpf mode 0 :  -0.7473070198755349\n",
      "ϕzpf mode 1 :  0.06145481659541618\n",
      "Starting the diagonalization\n",
      "Finished the diagonalization\n",
      "(2, 1)\n",
      "Single junctions -- assuming single qubit mode\n"
     ]
    },
    {
     "name": "stderr",
     "output_type": "stream",
     "text": [
      "ERROR 09:53PM [_get_participation_normalized]: WARNING: U_tot_cap-U_tot_ind / mean = 16.5% is > 15%.                     \n",
      "Is the simulation converged? Proceed with caution\n"
     ]
    },
    {
     "name": "stdout",
     "output_type": "stream",
     "text": [
      "Pm_norm=\n",
      "modes\n",
      "0    1.181288\n",
      "1    1.112367\n",
      "dtype: float64\n",
      "\n",
      "Pm_norm idx =\n",
      "      jj  inductor\n",
      "0   True     False\n",
      "1  False     False\n",
      "*** P (participation matrix, not normlz.)\n",
      "         jj  inductor\n",
      "0  0.714953  0.122869\n",
      "1  0.005098  0.000876\n",
      "\n",
      "*** S (sign-bit matrix)\n",
      "   s_jj  s_inductor\n",
      "0    -1          -1\n",
      "1     1           1\n",
      "*** P (participation matrix, normalized.)\n",
      "      0.84\n",
      "    0.0051\n",
      "\n",
      "*** Chi matrix O1 PT (MHz)\n",
      "    Diag is anharmonicity, off diag is full cross-Kerr.\n",
      "       743     10.1\n",
      "      10.1    0.034\n",
      "\n",
      "*** Chi matrix ND (MHz) \n",
      "  1.12e+03     2.27\n",
      "      2.27  0.00121\n",
      "\n",
      "*** Frequencies O1 PT (MHz)\n",
      "0    5554.352158\n",
      "1    7055.328616\n",
      "dtype: float64\n",
      "\n",
      "*** Frequencies ND (MHz)\n",
      "0    5448.094838\n",
      "1    7057.676066\n",
      "dtype: float64\n",
      "\n",
      "*** Q_coupling\n",
      "Empty DataFrame\n",
      "Columns: []\n",
      "Index: [0, 1]\n"
     ]
    },
    {
     "data": {
      "text/markdown": [
       "#### Mode frequencies (MHz)"
      ],
      "text/plain": [
       "<IPython.core.display.Markdown object>"
      ]
     },
     "metadata": {},
     "output_type": "display_data"
    },
    {
     "data": {
      "text/markdown": [
       "###### Numerical diagonalization"
      ],
      "text/plain": [
       "<IPython.core.display.Markdown object>"
      ]
     },
     "metadata": {},
     "output_type": "display_data"
    },
    {
     "data": {
      "text/html": [
       "<div>\n",
       "<style scoped>\n",
       "    .dataframe tbody tr th:only-of-type {\n",
       "        vertical-align: middle;\n",
       "    }\n",
       "\n",
       "    .dataframe tbody tr th {\n",
       "        vertical-align: top;\n",
       "    }\n",
       "\n",
       "    .dataframe thead th {\n",
       "        text-align: right;\n",
       "    }\n",
       "</style>\n",
       "<table border=\"1\" class=\"dataframe\">\n",
       "  <thead>\n",
       "    <tr style=\"text-align: right;\">\n",
       "      <th>Lj</th>\n",
       "      <th>34.3</th>\n",
       "    </tr>\n",
       "  </thead>\n",
       "  <tbody>\n",
       "    <tr>\n",
       "      <th>0</th>\n",
       "      <td>5448.09</td>\n",
       "    </tr>\n",
       "    <tr>\n",
       "      <th>1</th>\n",
       "      <td>7057.68</td>\n",
       "    </tr>\n",
       "  </tbody>\n",
       "</table>\n",
       "</div>"
      ],
      "text/plain": [
       "Lj     34.3\n",
       "0   5448.09\n",
       "1   7057.68"
      ]
     },
     "metadata": {},
     "output_type": "display_data"
    },
    {
     "data": {
      "text/markdown": [
       "#### Kerr Non-linear coefficient table (MHz)"
      ],
      "text/plain": [
       "<IPython.core.display.Markdown object>"
      ]
     },
     "metadata": {},
     "output_type": "display_data"
    },
    {
     "data": {
      "text/markdown": [
       "###### Numerical diagonalization"
      ],
      "text/plain": [
       "<IPython.core.display.Markdown object>"
      ]
     },
     "metadata": {},
     "output_type": "display_data"
    },
    {
     "data": {
      "text/html": [
       "<div>\n",
       "<style scoped>\n",
       "    .dataframe tbody tr th:only-of-type {\n",
       "        vertical-align: middle;\n",
       "    }\n",
       "\n",
       "    .dataframe tbody tr th {\n",
       "        vertical-align: top;\n",
       "    }\n",
       "\n",
       "    .dataframe thead th {\n",
       "        text-align: right;\n",
       "    }\n",
       "</style>\n",
       "<table border=\"1\" class=\"dataframe\">\n",
       "  <thead>\n",
       "    <tr style=\"text-align: right;\">\n",
       "      <th></th>\n",
       "      <th></th>\n",
       "      <th>0</th>\n",
       "      <th>1</th>\n",
       "    </tr>\n",
       "    <tr>\n",
       "      <th>Lj</th>\n",
       "      <th></th>\n",
       "      <th></th>\n",
       "      <th></th>\n",
       "    </tr>\n",
       "  </thead>\n",
       "  <tbody>\n",
       "    <tr>\n",
       "      <th rowspan=\"2\" valign=\"top\">34.3</th>\n",
       "      <th>0</th>\n",
       "      <td>1123.82</td>\n",
       "      <td>2.27e+00</td>\n",
       "    </tr>\n",
       "    <tr>\n",
       "      <th>1</th>\n",
       "      <td>2.27</td>\n",
       "      <td>1.21e-03</td>\n",
       "    </tr>\n",
       "  </tbody>\n",
       "</table>\n",
       "</div>"
      ],
      "text/plain": [
       "              0         1\n",
       "Lj                       \n",
       "34.3 0  1123.82  2.27e+00\n",
       "     1     2.27  1.21e-03"
      ]
     },
     "metadata": {},
     "output_type": "display_data"
    }
   ],
   "source": [
    "eig_qb.spectrum_analysis(s.cos_trunc, s.fock_trunc, basis=s.basis, flux=s.flux, junctions=[0])\n",
    "eig_qb.report_hamiltonian(s.sweep_variable)"
   ]
  },
  {
   "cell_type": "markdown",
   "metadata": {},
   "source": [
    "# Loop over flux"
   ]
  },
  {
   "cell_type": "code",
   "execution_count": 41,
   "metadata": {},
   "outputs": [],
   "source": [
    "from IPython.display import clear_output\n",
    "chis = []\n",
    "freq_q = []\n",
    "freq_r = []\n",
    "phis = np.linspace(0,1,201)\n",
    "for phi in phis:\n",
    "    eig_qb.setup.flux = phi\n",
    "    s = eig_qb.setup\n",
    "    eig_qb.spectrum_analysis(s.cos_trunc, s.fock_trunc, basis=s.basis, flux=s.flux, junctions=[0])\n",
    "    a = eig_qb.sim.renderer.epr_quantum_analysis.get_frequencies()\n",
    "    freq_q.append(a['0'][1])\n",
    "    freq_r.append(a['0'][0])\n",
    "    b = eig_qb.sim.renderer.epr_quantum_analysis.get_chis()\n",
    "    chi = -b[0][1]\n",
    "    chis.append(chi)\n",
    "    clear_output()"
   ]
  },
  {
   "cell_type": "code",
   "execution_count": 42,
   "metadata": {},
   "outputs": [],
   "source": [
    "%matplotlib inline"
   ]
  },
  {
   "cell_type": "code",
   "execution_count": 43,
   "metadata": {},
   "outputs": [
    {
     "data": {
      "text/plain": [
       "(0.0, 10.0)"
      ]
     },
     "execution_count": 43,
     "metadata": {},
     "output_type": "execute_result"
    }
   ],
   "source": [
    "plt.plot(phis,np.array(freq_r)/1000)\n",
    "plt.plot(phis,np.array(freq_q)/1000)\n",
    "plt.xlabel(r'Flux, $\\phi/\\pi$')\n",
    "plt.ylabel('frequencies, f (GHz)')\n",
    "plt.ylim(0,10)"
   ]
  },
  {
   "cell_type": "code",
   "execution_count": 44,
   "metadata": {},
   "outputs": [
    {
     "data": {
      "text/plain": [
       "Text(523.2569444444446, 0.5, 'Dispersive Shift, $\\\\chi/2\\\\pi$ (MHz)')"
      ]
     },
     "execution_count": 44,
     "metadata": {},
     "output_type": "execute_result"
    }
   ],
   "source": [
    "plt.plot(phis,chis)\n",
    "#plt.xlabel(r'Flux, $\\phi/\\pi$')\n",
    "plt.xlabel(r'External Flux, $\\Phi_{ext}/\\Phi_0$')\n",
    "plt.ylabel(r'Dispersive Shift, $\\chi/2\\pi$ (MHz)')\n",
    "#plt.ylabel(r'Dispersive shift, $\\chi$ (MHz)')"
   ]
  },
  {
   "cell_type": "markdown",
   "metadata": {},
   "source": [
    "# Q2 and Res 2 "
   ]
  },
  {
   "cell_type": "code",
   "execution_count": null,
   "metadata": {},
   "outputs": [],
   "source": [
    "eig_qb.sim.setup_update(n_modes = 2,\n",
    "                        max_delta_f = 0.1,\n",
    "                        min_freq_ghz = 1,\n",
    "                        max_passes = 12)\n",
    "eig_qb.sim.setup.vars.Lj = '34.3nH' # targetted E_j=4.75GHz\n",
    "eig_qb.sim.setup.vars.Cj = '0.0nH'\n",
    "eig_qb.sim.setup.vars.Ls = q1.options.l_inductance\n",
    "\n",
    "eig_qb.sim.setup"
   ]
  },
  {
   "cell_type": "code",
   "execution_count": null,
   "metadata": {},
   "outputs": [],
   "source": [
    "eig_qb.sim.run(name=\"FluxoniumEPR\", components=['Q2', 'cavity2', 'otg2s'], open_terminations=[], box_plus_buffer = True)"
   ]
  },
  {
   "cell_type": "code",
   "execution_count": null,
   "metadata": {},
   "outputs": [],
   "source": [
    "eig_qb.sim.convergence_f"
   ]
  },
  {
   "cell_type": "code",
   "execution_count": null,
   "metadata": {},
   "outputs": [],
   "source": [
    "# Add the geometry of the rectangle  and line of the inductor to the list of junctions\n",
    "eig_qb.setup.junctions.jj.rect = 'JJ_rect_Lj_Q2_rect_jj'\n",
    "eig_qb.setup.junctions.jj.line = 'JJ_Lj_Q2_rect_jj_'\n",
    "\n",
    "eig_qb.add_junction(name_junction ='inductor')\n",
    "eig_qb.setup.junctions.inductor.Lj_variable = 'Ls'\n",
    "eig_qb.setup.junctions.inductor.rect = 'JJ_rect_Lj_Q2_inductor'\n",
    "eig_qb.setup.junctions.inductor.line = 'JJ_Lj_Q2_inductor_'\n",
    "# eig_qb.setup.junctions.inductor.is_junction = False\n",
    "\n",
    "# Set up th EPR analysis parameters\n",
    "eig_qb.setup.fock_trunc = 15\n",
    "eig_qb.setup.cos_trunc = 6\n",
    "eig_qb.setup.flux = 0.0\n",
    "\n",
    "eig_qb.setup.basis = 'HO'\n",
    "\n",
    "# eig_qb.setup.sweep_variable = 'flux'   #--- This would be nice to implement to get a sweep over flux bias \n",
    "eig_qb.setup"
   ]
  },
  {
   "cell_type": "code",
   "execution_count": null,
   "metadata": {},
   "outputs": [],
   "source": [
    "# eig_qb.run_epr()\n",
    "#### equivalent individual calls\n",
    "s = eig_qb.setup\n",
    "eig_qb.epr_start()\n",
    "eig_qb.get_stored_energy()\n",
    "eig_qb.run_analysis()"
   ]
  },
  {
   "cell_type": "code",
   "execution_count": null,
   "metadata": {},
   "outputs": [],
   "source": [
    "eig_qb.spectrum_analysis(s.cos_trunc, s.fock_trunc, basis=s.basis, flux=s.flux, junctions=[0])\n",
    "eig_qb.report_hamiltonian(s.sweep_variable)"
   ]
  },
  {
   "cell_type": "markdown",
   "metadata": {},
   "source": [
    "# Loop over flux, Q2"
   ]
  },
  {
   "cell_type": "code",
   "execution_count": null,
   "metadata": {},
   "outputs": [],
   "source": [
    "from IPython.display import clear_output\n",
    "chis = []\n",
    "freq_q = []\n",
    "freq_r = []\n",
    "phis = np.linspace(0,1,301)\n",
    "for phi in phis:\n",
    "    eig_qb.setup.flux = phi\n",
    "    s = eig_qb.setup\n",
    "    eig_qb.spectrum_analysis(s.cos_trunc, s.fock_trunc, basis=s.basis, flux=s.flux, junctions=[0])\n",
    "    a = eig_qb.sim.renderer.epr_quantum_analysis.get_frequencies()\n",
    "    freq_q.append(a['0'][0])\n",
    "    freq_r.append(a['0'][1])\n",
    "    b = eig_qb.sim.renderer.epr_quantum_analysis.get_chis()\n",
    "    chi = -b[0][1]\n",
    "    chis.append(chi)\n",
    "    clear_output()"
   ]
  },
  {
   "cell_type": "code",
   "execution_count": null,
   "metadata": {},
   "outputs": [],
   "source": [
    "plt.plot(phis,np.array(freq_r)/1000)\n",
    "plt.plot(phis,np.array(freq_q)/1000)\n",
    "plt.xlabel(r'Flux, $\\phi/\\pi$')\n",
    "plt.ylabel('frequencies, f (GHz)')\n",
    "plt.ylim(0,10)"
   ]
  },
  {
   "cell_type": "code",
   "execution_count": null,
   "metadata": {},
   "outputs": [],
   "source": [
    "plt.plot(phis,chis)\n",
    "#plt.xlabel(r'Flux, $\\phi/\\pi$')\n",
    "plt.xlabel(r'External Flux, $\\Phi_{ext}/\\Phi_0$')\n",
    "plt.ylabel(r'Dispersive Shift, $\\chi/2\\pi$ (MHz)')\n",
    "#plt.ylabel(r'Dispersive shift, $\\chi$ (MHz)')"
   ]
  },
  {
   "cell_type": "markdown",
   "metadata": {},
   "source": [
    "# Q3 and Res 3"
   ]
  },
  {
   "cell_type": "code",
   "execution_count": null,
   "metadata": {},
   "outputs": [],
   "source": [
    "eig_qb.sim.setup_update(n_modes = 2,\n",
    "                        max_delta_f = 0.1,\n",
    "                        min_freq_ghz = 1,\n",
    "                        max_passes = 12)\n",
    "eig_qb.sim.setup.vars.Lj = '34.3nH' # targetted E_j=4.75GHz\n",
    "eig_qb.sim.setup.vars.Cj = '0.0nH'\n",
    "eig_qb.sim.setup.vars.Ls = q1.options.l_inductance\n",
    "\n",
    "eig_qb.sim.setup"
   ]
  },
  {
   "cell_type": "code",
   "execution_count": null,
   "metadata": {},
   "outputs": [],
   "source": [
    "eig_qb.sim.run(name=\"FluxoniumEPR\", components=['Q3', 'cavity3', 'otg3s'], open_terminations=[], box_plus_buffer = True)"
   ]
  },
  {
   "cell_type": "code",
   "execution_count": null,
   "metadata": {},
   "outputs": [],
   "source": [
    "eig_qb.sim.convergence_f"
   ]
  },
  {
   "cell_type": "code",
   "execution_count": null,
   "metadata": {},
   "outputs": [],
   "source": [
    "# Add the geometry of the rectangle  and line of the inductor to the list of junctions\n",
    "eig_qb.setup.junctions.jj.rect = 'JJ_rect_Lj_Q3_rect_jj'\n",
    "eig_qb.setup.junctions.jj.line = 'JJ_Lj_Q3_rect_jj_'\n",
    "\n",
    "eig_qb.add_junction(name_junction ='inductor')\n",
    "eig_qb.setup.junctions.inductor.Lj_variable = 'Ls'\n",
    "eig_qb.setup.junctions.inductor.rect = 'JJ_rect_Lj_Q3_inductor'\n",
    "eig_qb.setup.junctions.inductor.line = 'JJ_Lj_Q3_inductor_'\n",
    "# eig_qb.setup.junctions.inductor.is_junction = False\n",
    "\n",
    "# Set up th EPR analysis parameters\n",
    "eig_qb.setup.fock_trunc = 15\n",
    "eig_qb.setup.cos_trunc = 6\n",
    "eig_qb.setup.flux = 0.0\n",
    "\n",
    "eig_qb.setup.basis = 'HO'\n",
    "\n",
    "# eig_qb.setup.sweep_variable = 'flux'   #--- This would be nice to implement to get a sweep over flux bias \n",
    "eig_qb.setup"
   ]
  },
  {
   "cell_type": "code",
   "execution_count": null,
   "metadata": {},
   "outputs": [],
   "source": [
    "# eig_qb.run_epr()\n",
    "#### equivalent individual calls\n",
    "s = eig_qb.setup\n",
    "eig_qb.epr_start()\n",
    "eig_qb.get_stored_energy()\n",
    "eig_qb.run_analysis()"
   ]
  },
  {
   "cell_type": "code",
   "execution_count": null,
   "metadata": {},
   "outputs": [],
   "source": [
    "eig_qb.spectrum_analysis(s.cos_trunc, s.fock_trunc, basis=s.basis, flux=s.flux, junctions=[0])\n",
    "eig_qb.report_hamiltonian(s.sweep_variable)"
   ]
  },
  {
   "cell_type": "markdown",
   "metadata": {},
   "source": [
    "# Loop over flux, Q3"
   ]
  },
  {
   "cell_type": "code",
   "execution_count": null,
   "metadata": {},
   "outputs": [],
   "source": [
    "from IPython.display import clear_output\n",
    "chis = []\n",
    "freq_q = []\n",
    "freq_r = []\n",
    "phis = np.linspace(0,1,301)\n",
    "for phi in phis:\n",
    "    eig_qb.setup.flux = phi\n",
    "    s = eig_qb.setup\n",
    "    eig_qb.spectrum_analysis(s.cos_trunc, s.fock_trunc, basis=s.basis, flux=s.flux, junctions=[0])\n",
    "    a = eig_qb.sim.renderer.epr_quantum_analysis.get_frequencies()\n",
    "    freq_q.append(a['0'][0])\n",
    "    freq_r.append(a['0'][1])\n",
    "    b = eig_qb.sim.renderer.epr_quantum_analysis.get_chis()\n",
    "    chi = -b[0][1]\n",
    "    chis.append(chi)\n",
    "    clear_output()"
   ]
  },
  {
   "cell_type": "code",
   "execution_count": null,
   "metadata": {},
   "outputs": [],
   "source": [
    "plt.plot(phis,np.array(freq_r)/1000)\n",
    "plt.plot(phis,np.array(freq_q)/1000)\n",
    "plt.xlabel(r'Flux, $\\phi/\\pi$')\n",
    "plt.ylabel('frequencies, f (GHz)')\n",
    "plt.ylim(0,10)"
   ]
  },
  {
   "cell_type": "code",
   "execution_count": null,
   "metadata": {},
   "outputs": [],
   "source": [
    "plt.plot(phis,chis)\n",
    "#plt.xlabel(r'Flux, $\\phi/\\pi$')\n",
    "plt.xlabel(r'External Flux, $\\Phi_{ext}/\\Phi_0$')\n",
    "plt.ylabel(r'Dispersive Shift, $\\chi/2\\pi$ (MHz)')\n",
    "#plt.ylabel(r'Dispersive shift, $\\chi$ (MHz)')"
   ]
  },
  {
   "cell_type": "markdown",
   "metadata": {},
   "source": [
    "# Q4 and Res 4"
   ]
  },
  {
   "cell_type": "code",
   "execution_count": null,
   "metadata": {},
   "outputs": [],
   "source": [
    "eig_qb.sim.setup_update(n_modes = 2,\n",
    "                        max_delta_f = 0.1,\n",
    "                        min_freq_ghz = 1,\n",
    "                        max_passes = 12)\n",
    "eig_qb.sim.setup.vars.Lj = '34.3nH' # targetted E_j=4.75GHz\n",
    "eig_qb.sim.setup.vars.Cj = '0.0nH'\n",
    "eig_qb.sim.setup.vars.Ls = q1.options.l_inductance\n",
    "\n",
    "eig_qb.sim.setup"
   ]
  },
  {
   "cell_type": "code",
   "execution_count": null,
   "metadata": {},
   "outputs": [],
   "source": [
    "eig_qb.sim.run(name=\"FluxoniumEPR\", components=['Q4', 'cavity4', 'otg4s'], open_terminations=[], box_plus_buffer = True)"
   ]
  },
  {
   "cell_type": "code",
   "execution_count": null,
   "metadata": {},
   "outputs": [],
   "source": [
    "eig_qb.sim.convergence_f"
   ]
  },
  {
   "cell_type": "code",
   "execution_count": null,
   "metadata": {},
   "outputs": [],
   "source": [
    "# Add the geometry of the rectangle  and line of the inductor to the list of junctions\n",
    "eig_qb.setup.junctions.jj.rect = 'JJ_rect_Lj_Q4_rect_jj'\n",
    "eig_qb.setup.junctions.jj.line = 'JJ_Lj_Q4_rect_jj_'\n",
    "\n",
    "eig_qb.add_junction(name_junction ='inductor')\n",
    "eig_qb.setup.junctions.inductor.Lj_variable = 'Ls'\n",
    "eig_qb.setup.junctions.inductor.rect = 'JJ_rect_Lj_Q4_inductor'\n",
    "eig_qb.setup.junctions.inductor.line = 'JJ_Lj_Q4_inductor_'\n",
    "# eig_qb.setup.junctions.inductor.is_junction = False\n",
    "\n",
    "# Set up th EPR analysis parameters\n",
    "eig_qb.setup.fock_trunc = 15\n",
    "eig_qb.setup.cos_trunc = 6\n",
    "eig_qb.setup.flux = 0.0\n",
    "\n",
    "eig_qb.setup.basis = 'HO'\n",
    "\n",
    "# eig_qb.setup.sweep_variable = 'flux'   #--- This would be nice to implement to get a sweep over flux bias \n",
    "eig_qb.setup"
   ]
  },
  {
   "cell_type": "code",
   "execution_count": null,
   "metadata": {},
   "outputs": [],
   "source": [
    "# eig_qb.run_epr()\n",
    "#### equivalent individual calls\n",
    "s = eig_qb.setup\n",
    "eig_qb.epr_start()\n",
    "eig_qb.get_stored_energy()\n",
    "eig_qb.run_analysis()"
   ]
  },
  {
   "cell_type": "code",
   "execution_count": null,
   "metadata": {},
   "outputs": [],
   "source": [
    "eig_qb.spectrum_analysis(s.cos_trunc, s.fock_trunc, basis=s.basis, flux=s.flux, junctions=[0])\n",
    "eig_qb.report_hamiltonian(s.sweep_variable)"
   ]
  },
  {
   "cell_type": "markdown",
   "metadata": {},
   "source": [
    "# Loop over flux, Q4"
   ]
  },
  {
   "cell_type": "code",
   "execution_count": null,
   "metadata": {},
   "outputs": [],
   "source": [
    "from IPython.display import clear_output\n",
    "chis = []\n",
    "freq_q = []\n",
    "freq_r = []\n",
    "phis = np.linspace(0,1,301)\n",
    "for phi in phis:\n",
    "    eig_qb.setup.flux = phi\n",
    "    s = eig_qb.setup\n",
    "    eig_qb.spectrum_analysis(s.cos_trunc, s.fock_trunc, basis=s.basis, flux=s.flux, junctions=[0])\n",
    "    a = eig_qb.sim.renderer.epr_quantum_analysis.get_frequencies()\n",
    "    freq_q.append(a['0'][1])\n",
    "    freq_r.append(a['0'][0])\n",
    "    b = eig_qb.sim.renderer.epr_quantum_analysis.get_chis()\n",
    "    chi = -b[0][1]\n",
    "    chis.append(chi)\n",
    "    clear_output()"
   ]
  },
  {
   "cell_type": "code",
   "execution_count": null,
   "metadata": {},
   "outputs": [],
   "source": [
    "plt.plot(phis,np.array(freq_r)/1000)\n",
    "plt.plot(phis,np.array(freq_q)/1000)\n",
    "plt.xlabel(r'Flux, $\\phi/\\pi$')\n",
    "plt.ylabel('frequencies, f (GHz)')\n",
    "plt.ylim(0,10)"
   ]
  },
  {
   "cell_type": "code",
   "execution_count": null,
   "metadata": {},
   "outputs": [],
   "source": [
    "plt.plot(phis,chis)\n",
    "#plt.xlabel(r'Flux, $\\phi/\\pi$')\n",
    "plt.xlabel(r'External Flux, $\\Phi_{ext}/\\Phi_0$')\n",
    "plt.ylabel(r'Dispersive Shift, $\\chi/2\\pi$ (MHz)')\n",
    "#plt.ylabel(r'Dispersive shift, $\\chi$ (MHz)')"
   ]
  },
  {
   "cell_type": "markdown",
   "metadata": {},
   "source": [
    "# Q5 and Res 5"
   ]
  },
  {
   "cell_type": "code",
   "execution_count": null,
   "metadata": {},
   "outputs": [],
   "source": [
    "eig_qb.sim.setup_update(n_modes = 2,\n",
    "                        max_delta_f = 0.1,\n",
    "                        min_freq_ghz = 1,\n",
    "                        max_passes = 12)\n",
    "eig_qb.sim.setup.vars.Lj = '34.3nH' # targetted E_j=4.75GHz\n",
    "eig_qb.sim.setup.vars.Cj = '0.0nH'\n",
    "eig_qb.sim.setup.vars.Ls = q1.options.l_inductance\n",
    "\n",
    "eig_qb.sim.setup"
   ]
  },
  {
   "cell_type": "code",
   "execution_count": null,
   "metadata": {},
   "outputs": [],
   "source": [
    "eig_qb.sim.run(name=\"FluxoniumEPR\", components=['Q5', 'cavity5', 'otg5s'], open_terminations=[], box_plus_buffer = False)"
   ]
  },
  {
   "cell_type": "code",
   "execution_count": null,
   "metadata": {},
   "outputs": [],
   "source": [
    "eig_qb.sim.convergence_f"
   ]
  },
  {
   "cell_type": "code",
   "execution_count": null,
   "metadata": {},
   "outputs": [],
   "source": [
    "# Add the geometry of the rectangle  and line of the inductor to the list of junctions\n",
    "eig_qb.setup.junctions.jj.rect = 'JJ_rect_Lj_Q5_rect_jj'\n",
    "eig_qb.setup.junctions.jj.line = 'JJ_Lj_Q5_rect_jj_'\n",
    "\n",
    "eig_qb.add_junction(name_junction ='inductor')\n",
    "eig_qb.setup.junctions.inductor.Lj_variable = 'Ls'\n",
    "eig_qb.setup.junctions.inductor.rect = 'JJ_rect_Lj_Q5_inductor'\n",
    "eig_qb.setup.junctions.inductor.line = 'JJ_Lj_Q5_inductor_'\n",
    "# eig_qb.setup.junctions.inductor.is_junction = False\n",
    "\n",
    "# Set up th EPR analysis parameters\n",
    "eig_qb.setup.fock_trunc = 15\n",
    "eig_qb.setup.cos_trunc = 6\n",
    "eig_qb.setup.flux = 0.0\n",
    "\n",
    "eig_qb.setup.basis = 'HO'\n",
    "\n",
    "# eig_qb.setup.sweep_variable = 'flux'   #--- This would be nice to implement to get a sweep over flux bias \n",
    "eig_qb.setup"
   ]
  },
  {
   "cell_type": "code",
   "execution_count": null,
   "metadata": {},
   "outputs": [],
   "source": [
    "# eig_qb.run_epr()\n",
    "#### equivalent individual calls\n",
    "s = eig_qb.setup\n",
    "eig_qb.epr_start()\n",
    "eig_qb.get_stored_energy()\n",
    "eig_qb.run_analysis()"
   ]
  },
  {
   "cell_type": "code",
   "execution_count": null,
   "metadata": {},
   "outputs": [],
   "source": [
    "eig_qb.spectrum_analysis(s.cos_trunc, s.fock_trunc, basis=s.basis, flux=s.flux, junctions=[0])\n",
    "eig_qb.report_hamiltonian(s.sweep_variable)"
   ]
  },
  {
   "cell_type": "markdown",
   "metadata": {},
   "source": [
    "# Loop over flux, Q5"
   ]
  },
  {
   "cell_type": "code",
   "execution_count": null,
   "metadata": {},
   "outputs": [],
   "source": [
    "from IPython.display import clear_output\n",
    "chis = []\n",
    "freq_q = []\n",
    "freq_r = []\n",
    "phis = np.linspace(0,1,301)\n",
    "for phi in phis:\n",
    "    eig_qb.setup.flux = phi\n",
    "    s = eig_qb.setup\n",
    "    eig_qb.spectrum_analysis(s.cos_trunc, s.fock_trunc, basis=s.basis, flux=s.flux, junctions=[0])\n",
    "    a = eig_qb.sim.renderer.epr_quantum_analysis.get_frequencies()\n",
    "    freq_q.append(a['0'][1])\n",
    "    freq_r.append(a['0'][0])\n",
    "    b = eig_qb.sim.renderer.epr_quantum_analysis.get_chis()\n",
    "    chi = -b[0][1]\n",
    "    chis.append(chi)\n",
    "    clear_output()"
   ]
  },
  {
   "cell_type": "code",
   "execution_count": null,
   "metadata": {},
   "outputs": [],
   "source": [
    "plt.plot(phis,np.array(freq_r)/1000)\n",
    "plt.plot(phis,np.array(freq_q)/1000)\n",
    "plt.xlabel(r'Flux, $\\phi/\\pi$')\n",
    "plt.ylabel('frequencies, f (GHz)')\n",
    "plt.ylim(0,10)"
   ]
  },
  {
   "cell_type": "code",
   "execution_count": null,
   "metadata": {},
   "outputs": [],
   "source": [
    "plt.plot(phis,chis)\n",
    "#plt.xlabel(r'Flux, $\\phi/\\pi$')\n",
    "plt.xlabel(r'External Flux, $\\Phi_{ext}/\\Phi_0$')\n",
    "plt.ylabel(r'Dispersive Shift, $\\chi/2\\pi$ (MHz)')\n",
    "#plt.ylabel(r'Dispersive shift, $\\chi$ (MHz)')"
   ]
  },
  {
   "cell_type": "markdown",
   "metadata": {},
   "source": [
    "# Q6 and Res 6"
   ]
  },
  {
   "cell_type": "code",
   "execution_count": null,
   "metadata": {},
   "outputs": [],
   "source": [
    "eig_qb.sim.setup_update(n_modes = 2,\n",
    "                        max_delta_f = 0.1,\n",
    "                        min_freq_ghz = 1,\n",
    "                        max_passes = 12)\n",
    "eig_qb.sim.setup.vars.Lj = '34.3nH' # targetted E_j=4.75GHz\n",
    "eig_qb.sim.setup.vars.Cj = '0.0nH'\n",
    "eig_qb.sim.setup.vars.Ls = q1.options.l_inductance\n",
    "\n",
    "eig_qb.sim.setup"
   ]
  },
  {
   "cell_type": "code",
   "execution_count": null,
   "metadata": {},
   "outputs": [],
   "source": [
    "eig_qb.sim.run(name=\"FluxoniumEPR\", components=['Q6', 'cavity6', 'otg6s'], open_terminations=[], box_plus_buffer = True)"
   ]
  },
  {
   "cell_type": "code",
   "execution_count": null,
   "metadata": {},
   "outputs": [],
   "source": [
    "eig_qb.sim.convergence_f"
   ]
  },
  {
   "cell_type": "code",
   "execution_count": null,
   "metadata": {},
   "outputs": [],
   "source": [
    "# Add the geometry of the rectangle  and line of the inductor to the list of junctions\n",
    "eig_qb.setup.junctions.jj.rect = 'JJ_rect_Lj_Q6_rect_jj'\n",
    "eig_qb.setup.junctions.jj.line = 'JJ_Lj_Q6_rect_jj_'\n",
    "\n",
    "eig_qb.add_junction(name_junction ='inductor')\n",
    "eig_qb.setup.junctions.inductor.Lj_variable = 'Ls'\n",
    "eig_qb.setup.junctions.inductor.rect = 'JJ_rect_Lj_Q6_inductor'\n",
    "eig_qb.setup.junctions.inductor.line = 'JJ_Lj_Q6_inductor_'\n",
    "# eig_qb.setup.junctions.inductor.is_junction = False\n",
    "\n",
    "# Set up th EPR analysis parameters\n",
    "eig_qb.setup.fock_trunc = 15\n",
    "eig_qb.setup.cos_trunc = 6\n",
    "eig_qb.setup.flux = 0.0\n",
    "\n",
    "eig_qb.setup.basis = 'HO'\n",
    "\n",
    "# eig_qb.setup.sweep_variable = 'flux'   #--- This would be nice to implement to get a sweep over flux bias \n",
    "eig_qb.setup"
   ]
  },
  {
   "cell_type": "code",
   "execution_count": null,
   "metadata": {},
   "outputs": [],
   "source": [
    "# eig_qb.run_epr()\n",
    "#### equivalent individual calls\n",
    "s = eig_qb.setup\n",
    "eig_qb.epr_start()\n",
    "eig_qb.get_stored_energy()\n",
    "eig_qb.run_analysis()"
   ]
  },
  {
   "cell_type": "code",
   "execution_count": null,
   "metadata": {},
   "outputs": [],
   "source": [
    "eig_qb.spectrum_analysis(s.cos_trunc, s.fock_trunc, basis=s.basis, flux=s.flux, junctions=[0])\n",
    "eig_qb.report_hamiltonian(s.sweep_variable)"
   ]
  },
  {
   "cell_type": "markdown",
   "metadata": {},
   "source": [
    "# Loop over flux, Q6"
   ]
  },
  {
   "cell_type": "code",
   "execution_count": null,
   "metadata": {},
   "outputs": [],
   "source": [
    "from IPython.display import clear_output\n",
    "chis = []\n",
    "freq_q = []\n",
    "freq_r = []\n",
    "phis = np.linspace(0,1,301)\n",
    "for phi in phis:\n",
    "    eig_qb.setup.flux = phi\n",
    "    s = eig_qb.setup\n",
    "    eig_qb.spectrum_analysis(s.cos_trunc, s.fock_trunc, basis=s.basis, flux=s.flux, junctions=[0])\n",
    "    a = eig_qb.sim.renderer.epr_quantum_analysis.get_frequencies()\n",
    "    freq_q.append(a['0'][1])\n",
    "    freq_r.append(a['0'][0])\n",
    "    b = eig_qb.sim.renderer.epr_quantum_analysis.get_chis()\n",
    "    chi = -b[0][1]\n",
    "    chis.append(chi)\n",
    "    clear_output()"
   ]
  },
  {
   "cell_type": "code",
   "execution_count": null,
   "metadata": {},
   "outputs": [],
   "source": [
    "plt.plot(phis,np.array(freq_r)/1000)\n",
    "plt.plot(phis,np.array(freq_q)/1000)\n",
    "plt.xlabel(r'Flux, $\\phi/\\pi$')\n",
    "plt.ylabel('frequencies, f (GHz)')\n",
    "plt.ylim(0,10)"
   ]
  },
  {
   "cell_type": "code",
   "execution_count": null,
   "metadata": {},
   "outputs": [],
   "source": [
    "plt.plot(phis,chis)\n",
    "#plt.xlabel(r'Flux, $\\phi/\\pi$')\n",
    "plt.xlabel(r'External Flux, $\\Phi_{ext}/\\Phi_0$')\n",
    "plt.ylabel(r'Dispersive Shift, $\\chi/2\\pi$ (MHz)')\n",
    "#plt.ylabel(r'Dispersive shift, $\\chi$ (MHz)')"
   ]
  },
  {
   "cell_type": "code",
   "execution_count": null,
   "metadata": {},
   "outputs": [],
   "source": [
    "hfss.disconnect_ansys()"
   ]
  },
  {
   "cell_type": "code",
   "execution_count": null,
   "metadata": {},
   "outputs": [],
   "source": [
    "gui.main_window.close()"
   ]
  },
  {
   "cell_type": "code",
   "execution_count": null,
   "metadata": {},
   "outputs": [],
   "source": []
  }
 ],
 "metadata": {
  "kernelspec": {
   "display_name": "Python 3 (ipykernel)",
   "language": "python",
   "name": "python3"
  },
  "language_info": {
   "codemirror_mode": {
    "name": "ipython",
    "version": 3
   },
   "file_extension": ".py",
   "mimetype": "text/x-python",
   "name": "python",
   "nbconvert_exporter": "python",
   "pygments_lexer": "ipython3",
   "version": "3.11.3"
  }
 },
 "nbformat": 4,
 "nbformat_minor": 4
}
