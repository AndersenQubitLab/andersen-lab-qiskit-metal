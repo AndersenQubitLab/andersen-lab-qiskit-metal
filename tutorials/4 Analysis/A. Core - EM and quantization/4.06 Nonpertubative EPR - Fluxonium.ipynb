{
 "cells": [
  {
   "cell_type": "markdown",
   "metadata": {},
   "source": [
    "# Eigenmode and EPR analysis Fluxonium"
   ]
  },
  {
   "cell_type": "markdown",
   "metadata": {},
   "source": [
    "## Sections\n",
    "1. Prepare the layout in qiskit-metal. <br>\n",
    "1. Run finite element eigenmode analysis. <br>\n",
    "1. Set up EPR junction dictionary. <br>\n",
    "1. Run EPR analysis on single mode. <br>\n",
    "1. Get qubit freq and anharmonicity. <br>"
   ]
  },
  {
   "cell_type": "code",
   "execution_count": 1,
   "metadata": {
    "scrolled": false
   },
   "outputs": [],
   "source": [
    "%reload_ext autoreload\n",
    "%autoreload 2\n",
    "\n",
    "import numpy as np\n",
    "\n",
    "import qiskit_metal as metal\n",
    "from qiskit_metal import designs, draw\n",
    "from qiskit_metal import MetalGUI, Dict, Headings\n",
    "from qiskit_metal.qlibrary.qubits.fluxoniumEPR import FluxoniumPocket\n",
    "\n",
    "import pyEPR as epr\n",
    "from qiskit_metal.analyses.quantization import EPRanalysis"
   ]
  },
  {
   "cell_type": "code",
   "execution_count": 2,
   "metadata": {},
   "outputs": [],
   "source": [
    "from qiskit_metal.qlibrary.qubits.fluxoniumEPR import FluxoniumPocket"
   ]
  },
  {
   "cell_type": "markdown",
   "metadata": {},
   "source": [
    "### Create the Qubit design\n",
    "\n",
    "Setup a design of a given dimension. Dimensions will be respected in the design rendering. <br>\n",
    "Note that the design size extends from the origin into the first quadrant."
   ]
  },
  {
   "cell_type": "code",
   "execution_count": 3,
   "metadata": {
    "scrolled": false
   },
   "outputs": [],
   "source": [
    "design = designs.DesignPlanar({}, True)\n",
    "design.chips.main.size['size_x'] = '2mm'\n",
    "design.chips.main.size['size_y'] = '2mm'\n",
    "\n",
    "design.delete_all_components()\n",
    "\n",
    "q1 = FluxoniumPocket(design, 'Q1')\n",
    "\n",
    "gui = MetalGUI(design)\n"
   ]
  },
  {
   "cell_type": "code",
   "execution_count": null,
   "metadata": {},
   "outputs": [],
   "source": []
  },
  {
   "cell_type": "markdown",
   "metadata": {},
   "source": [
    "### Finite Element Eigenmode Analysis\n",
    "\n",
    "#### Setup\n",
    "\n",
    "Select the analysis you intend to run from the `qiskit_metal.analyses` collection.<br>\n",
    "Select the design to analyze and the tool to use for any external simulation."
   ]
  },
  {
   "cell_type": "code",
   "execution_count": 4,
   "metadata": {},
   "outputs": [],
   "source": [
    "eig_qb = EPRanalysis(design,\"hfss\")"
   ]
  },
  {
   "cell_type": "markdown",
   "metadata": {},
   "source": [
    "Review and update the convergence parameters and junction properties by executing following two cells. We exemplify three different methods to update the setup parameters."
   ]
  },
  {
   "cell_type": "code",
   "execution_count": 5,
   "metadata": {},
   "outputs": [
    {
     "data": {
      "text/plain": [
       "{'name': 'Setup',\n",
       " 'reuse_selected_design': True,\n",
       " 'reuse_setup': True,\n",
       " 'min_freq_ghz': 1,\n",
       " 'n_modes': 3,\n",
       " 'max_delta_f': 0.1,\n",
       " 'max_passes': 12,\n",
       " 'min_passes': 1,\n",
       " 'min_converged': 1,\n",
       " 'pct_refinement': 30,\n",
       " 'basis_order': 1,\n",
       " 'vars': {'Lj': '16.35nH', 'Cj': '0 fF', 'Ls': '200nH'}}"
      ]
     },
     "execution_count": 5,
     "metadata": {},
     "output_type": "execute_result"
    }
   ],
   "source": [
    "eig_qb.sim.setup_update(n_modes = 3,\n",
    "                        max_delta_f = 0.1,\n",
    "                        min_freq_ghz = 1,\n",
    "                        max_passes = 12)\n",
    "eig_qb.sim.setup.vars.Lj = q1.options.L_j\n",
    "eig_qb.sim.setup.vars.Ls = q1.options.l_inductance\n",
    "\n",
    "eig_qb.sim.setup"
   ]
  },
  {
   "cell_type": "markdown",
   "metadata": {},
   "source": [
    "#### Execute simulation and verify convergence and EM field\n",
    "Analyze a single qubit with shorted terminations. Then observe the frequency convergence plot. If not converging, you might want to increase the min_passes value to force the renderer to increase accuracy.\n",
    "\n",
    "You can use the method `run()` instead of `sim.run()` in the following cell if you want to run both eigenmode and epr analysis in a single step. If so, make sure to also tweak the setup for the epr analysis. The input parameters are otherwise the same for the two methods."
   ]
  },
  {
   "cell_type": "code",
   "execution_count": 6,
   "metadata": {},
   "outputs": [
    {
     "name": "stderr",
     "output_type": "stream",
     "text": [
      "INFO 03:57PM [connect_project]: Connecting to Ansys Desktop API...\n",
      "INFO 03:57PM [load_ansys_project]: \tOpened Ansys App\n",
      "INFO 03:57PM [load_ansys_project]: \tOpened Ansys Desktop v2020.2.0\n",
      "INFO 03:57PM [load_ansys_project]: \tOpened Ansys Project\n",
      "\tFolder:    C:/Users/christianander/Documents/Ansoft/\n",
      "\tProject:   Project12\n",
      "INFO 03:57PM [connect_design]: No active design found (or error getting active design).\n",
      "INFO 03:57PM [connect]: \t Connected to project \"Project12\". No design detected\n",
      "INFO 03:57PM [connect_design]: \tOpened active design\n",
      "\tDesign:    FluxoniumEPR_hfss [Solution type: Eigenmode]\n",
      "WARNING 03:57PM [connect_setup]: \tNo design setup detected.\n",
      "WARNING 03:57PM [connect_setup]: \tCreating eigenmode default setup.\n",
      "INFO 03:58PM [get_setup]: \tOpened setup `Setup`  (<class 'pyEPR.ansys.HfssEMSetup'>)\n",
      "INFO 03:58PM [get_setup]: \tOpened setup `Setup`  (<class 'pyEPR.ansys.HfssEMSetup'>)\n",
      "INFO 03:58PM [analyze]: Analyzing setup Setup\n",
      "04:05PM 38s INFO [get_f_convergence]: Saved convergences to C:\\Users\\christianander\\python\\notebooks\\2022_02_fluxonium_metal_pyepr\\hfss_eig_f_convergence.csv\n"
     ]
    }
   ],
   "source": [
    "eig_qb.sim.run(name=\"FluxoniumEPR\", components=['Q1'], open_terminations=[], box_plus_buffer = False)"
   ]
  },
  {
   "cell_type": "code",
   "execution_count": 7,
   "metadata": {},
   "outputs": [],
   "source": [
    "# eig_qb.sim.renderer.clean_active_design()"
   ]
  },
  {
   "cell_type": "code",
   "execution_count": 8,
   "metadata": {},
   "outputs": [],
   "source": [
    "# eig_qb.sim.close()"
   ]
  },
  {
   "cell_type": "markdown",
   "metadata": {},
   "source": [
    "The last variables you pass to the `run()` or `sim.run()` methods, will be stored in the `sim.setup` dictionary under the key `run`. You can recall the information passed by either accessing the dictionary directly, or by using the print handle below."
   ]
  },
  {
   "cell_type": "markdown",
   "metadata": {},
   "source": [
    "(optional) Work directly with the convergence numbers"
   ]
  },
  {
   "cell_type": "code",
   "execution_count": 9,
   "metadata": {
    "scrolled": false
   },
   "outputs": [
    {
     "data": {
      "text/html": [
       "<div>\n",
       "<style scoped>\n",
       "    .dataframe tbody tr th:only-of-type {\n",
       "        vertical-align: middle;\n",
       "    }\n",
       "\n",
       "    .dataframe tbody tr th {\n",
       "        vertical-align: top;\n",
       "    }\n",
       "\n",
       "    .dataframe thead th {\n",
       "        text-align: right;\n",
       "    }\n",
       "</style>\n",
       "<table border=\"1\" class=\"dataframe\">\n",
       "  <thead>\n",
       "    <tr style=\"text-align: right;\">\n",
       "      <th></th>\n",
       "      <th>re(Mode(1)) [g]</th>\n",
       "      <th>re(Mode(2)) [g]</th>\n",
       "      <th>re(Mode(3)) [g]</th>\n",
       "    </tr>\n",
       "    <tr>\n",
       "      <th>Pass []</th>\n",
       "      <th></th>\n",
       "      <th></th>\n",
       "      <th></th>\n",
       "    </tr>\n",
       "  </thead>\n",
       "  <tbody>\n",
       "    <tr>\n",
       "      <th>1</th>\n",
       "      <td>3.947623</td>\n",
       "      <td>11.757697</td>\n",
       "      <td>20.889580</td>\n",
       "    </tr>\n",
       "    <tr>\n",
       "      <th>2</th>\n",
       "      <td>5.509198</td>\n",
       "      <td>12.458009</td>\n",
       "      <td>22.437603</td>\n",
       "    </tr>\n",
       "    <tr>\n",
       "      <th>3</th>\n",
       "      <td>7.543397</td>\n",
       "      <td>12.878315</td>\n",
       "      <td>23.338145</td>\n",
       "    </tr>\n",
       "    <tr>\n",
       "      <th>4</th>\n",
       "      <td>8.561553</td>\n",
       "      <td>13.139591</td>\n",
       "      <td>23.835121</td>\n",
       "    </tr>\n",
       "    <tr>\n",
       "      <th>5</th>\n",
       "      <td>8.937411</td>\n",
       "      <td>13.308757</td>\n",
       "      <td>24.129328</td>\n",
       "    </tr>\n",
       "    <tr>\n",
       "      <th>6</th>\n",
       "      <td>9.120701</td>\n",
       "      <td>13.426837</td>\n",
       "      <td>24.355987</td>\n",
       "    </tr>\n",
       "    <tr>\n",
       "      <th>7</th>\n",
       "      <td>9.197946</td>\n",
       "      <td>13.487978</td>\n",
       "      <td>24.471150</td>\n",
       "    </tr>\n",
       "    <tr>\n",
       "      <th>8</th>\n",
       "      <td>9.272473</td>\n",
       "      <td>13.542265</td>\n",
       "      <td>24.574752</td>\n",
       "    </tr>\n",
       "    <tr>\n",
       "      <th>9</th>\n",
       "      <td>9.318014</td>\n",
       "      <td>13.583032</td>\n",
       "      <td>24.649891</td>\n",
       "    </tr>\n",
       "    <tr>\n",
       "      <th>10</th>\n",
       "      <td>9.325284</td>\n",
       "      <td>13.597576</td>\n",
       "      <td>24.681095</td>\n",
       "    </tr>\n",
       "    <tr>\n",
       "      <th>11</th>\n",
       "      <td>9.368953</td>\n",
       "      <td>13.626728</td>\n",
       "      <td>24.730456</td>\n",
       "    </tr>\n",
       "    <tr>\n",
       "      <th>12</th>\n",
       "      <td>9.390696</td>\n",
       "      <td>13.647649</td>\n",
       "      <td>24.769951</td>\n",
       "    </tr>\n",
       "  </tbody>\n",
       "</table>\n",
       "</div>"
      ],
      "text/plain": [
       "         re(Mode(1)) [g]  re(Mode(2)) [g]  re(Mode(3)) [g]\n",
       "Pass []                                                   \n",
       "1               3.947623        11.757697        20.889580\n",
       "2               5.509198        12.458009        22.437603\n",
       "3               7.543397        12.878315        23.338145\n",
       "4               8.561553        13.139591        23.835121\n",
       "5               8.937411        13.308757        24.129328\n",
       "6               9.120701        13.426837        24.355987\n",
       "7               9.197946        13.487978        24.471150\n",
       "8               9.272473        13.542265        24.574752\n",
       "9               9.318014        13.583032        24.649891\n",
       "10              9.325284        13.597576        24.681095\n",
       "11              9.368953        13.626728        24.730456\n",
       "12              9.390696        13.647649        24.769951"
      ]
     },
     "execution_count": 9,
     "metadata": {},
     "output_type": "execute_result"
    }
   ],
   "source": [
    "eig_qb.sim.convergence_f"
   ]
  },
  {
   "cell_type": "markdown",
   "metadata": {},
   "source": [
    "### EPR Analysis\n",
    "#### Setup"
   ]
  },
  {
   "cell_type": "code",
   "execution_count": 10,
   "metadata": {},
   "outputs": [
    {
     "data": {
      "text/plain": [
       "{'junctions': {'jj': {'Lj_variable': 'Lj',\n",
       "   'Cj_variable': 'Cj',\n",
       "   'rect': 'JJ_rect_Lj_Q1_rect_jj',\n",
       "   'line': 'JJ_Lj_Q1_rect_jj_'},\n",
       "  'inductor': {'Lj_variable': 'Ls',\n",
       "   'Cj_variable': 'Cj',\n",
       "   'rect': 'JJ_rect_Lj_Q1_inductor',\n",
       "   'line': 'JJ_Lj_Q1_inductor_'}},\n",
       " 'dissipatives': {'dielectrics_bulk': ['main']},\n",
       " 'cos_trunc': 6,\n",
       " 'fock_trunc': 10,\n",
       " 'flux': 0.5,\n",
       " 'basis': 'HO',\n",
       " 'sweep_variable': 'Lj'}"
      ]
     },
     "execution_count": 10,
     "metadata": {},
     "output_type": "execute_result"
    }
   ],
   "source": [
    "# Add the geometry of the rectangle  and line of the inductor to the list of junctions\n",
    "eig_qb.setup.junctions.jj.rect = 'JJ_rect_Lj_Q1_rect_jj'\n",
    "eig_qb.setup.junctions.jj.line = 'JJ_Lj_Q1_rect_jj_'\n",
    "\n",
    "eig_qb.add_junction(name_junction ='inductor')\n",
    "eig_qb.setup.junctions.inductor.Lj_variable = 'Ls'\n",
    "eig_qb.setup.junctions.inductor.rect = 'JJ_rect_Lj_Q1_inductor'\n",
    "eig_qb.setup.junctions.inductor.line = 'JJ_Lj_Q1_inductor_'\n",
    "# eig_qb.setup.junctions.inductor.is_junction = False\n",
    "\n",
    "# Set up th EPR analysis parameters\n",
    "eig_qb.setup.fock_trunc = 10\n",
    "eig_qb.setup.cos_trunc = 6\n",
    "eig_qb.setup.flux = 0.5\n",
    "\n",
    "eig_qb.setup.basis = 'HO'\n",
    "\n",
    "# eig_qb.setup.sweep_variable = 'flux'   #--- This would be nice to implement to get a sweep over flux bias \n",
    "eig_qb.setup"
   ]
  },
  {
   "cell_type": "code",
   "execution_count": null,
   "metadata": {},
   "outputs": [],
   "source": []
  },
  {
   "cell_type": "markdown",
   "metadata": {},
   "source": [
    "The name of the `Lj_variable` and `Cj_variable` match with our model. However it is missing the names of the shapes that identify the junction (`rect` and `line`). Look for those in the renderer and find the name. Then let's change the name (See below)."
   ]
  },
  {
   "cell_type": "markdown",
   "metadata": {},
   "source": [
    "We will now run epr as a single step. On screen you will observe various information in this order:\n",
    "* stored energy = Electric and magnetic energy stored in the substrate and the system as a whole.\n",
    "* EPR analysis results for all modes/variations.\n",
    "* Spectrum analysis.\n",
    "* Hamiltonian report."
   ]
  },
  {
   "cell_type": "code",
   "execution_count": 11,
   "metadata": {
    "scrolled": false
   },
   "outputs": [
    {
     "name": "stdout",
     "output_type": "stream",
     "text": [
      "Design \"FluxoniumEPR_hfss\" info:\n",
      "\t# eigenmodes    3\n",
      "\t# variations    1\n",
      "Design \"FluxoniumEPR_hfss\" info:\n",
      "\t# eigenmodes    3\n",
      "\t# variations    1\n",
      "Design \"FluxoniumEPR_hfss\" info:\n",
      "\t# eigenmodes    3\n",
      "\t# variations    1\n",
      "\n",
      "        energy_elec_all       = 5.03124524792726e-26\n",
      "        energy_elec_substrate = 4.63876743104179e-26\n",
      "        EPR of substrate = 92.2%\n",
      "\n",
      "        energy_mag    = 4.41320963062742e-28\n",
      "        energy_mag % of energy_elec_all  = 0.9%\n",
      "        \n",
      "\n",
      "Variation 0  [1/1]\n",
      "\n",
      "  \u001b[1mMode 0 at 9.39 GHz   [1/3]\u001b[0m\n",
      "    Calculating ℰ_magnetic,ℰ_electric\n",
      "       (ℰ_E-ℰ_H)/ℰ_E       ℰ_E       ℰ_H\n",
      "               99.1%  2.516e-26 2.207e-28\n",
      "\n",
      "    Calculating junction energy participation ration (EPR)\n",
      "\tmethod=`line_voltage`. First estimates:\n",
      "\tjunction        EPR p_0j   sign s_0j    (p_capacitive)\n",
      "\t\tEnergy fraction (Lj over Lj&Cj)= 89.78%\n",
      "\tjj              0.914007  (+)        0.104052\n",
      "\t\tEnergy fraction (Lj over Lj&Cj)= 41.80%\n",
      "\tinductor        0.0751664  (+)        0.104674\n",
      "\t\t(U_tot_cap-U_tot_ind)/mean=9.55%\n",
      "Calculating Qdielectric_main for mode 0 (0/2)\n",
      "p_dielectric_main_0 = 0.9219919130264699\n",
      "\n",
      "  \u001b[1mMode 1 at 13.65 GHz   [2/3]\u001b[0m\n",
      "    Calculating ℰ_magnetic,ℰ_electric\n",
      "       (ℰ_E-ℰ_H)/ℰ_E       ℰ_E       ℰ_H\n",
      "               99.8%  5.216e-28 8.361e-31\n",
      "\n",
      "    Calculating junction energy participation ration (EPR)\n",
      "\tmethod=`line_voltage`. First estimates:\n",
      "\tjunction        EPR p_1j   sign s_1j    (p_capacitive)\n",
      "\t\tEnergy fraction (Lj over Lj&Cj)= 80.62%\n",
      "\tjj              2.12679e-08  (+)        5.11386e-09\n",
      "\t\tEnergy fraction (Lj over Lj&Cj)= 25.37%\n",
      "\tinductor        1.40773e-09  (+)        4.14052e-09\n",
      "\t\t(U_tot_cap-U_tot_ind)/mean=99.68%\n",
      "WARNING: This simulation must not have converged well!!!                The difference in the total cap and ind energies is larger than 10%.                Proceed with caution.\n",
      "Calculating Qdielectric_main for mode 1 (1/2)\n",
      "p_dielectric_main_1 = 0.9220638648202432\n",
      "\n",
      "  \u001b[1mMode 2 at 24.77 GHz   [3/3]\u001b[0m\n",
      "    Calculating ℰ_magnetic,ℰ_electric\n",
      "       (ℰ_E-ℰ_H)/ℰ_E       ℰ_E       ℰ_H\n",
      "               99.8%  2.757e-28 4.175e-31\n",
      "\n",
      "    Calculating junction energy participation ration (EPR)\n",
      "\tmethod=`line_voltage`. First estimates:\n",
      "\tjunction        EPR p_2j   sign s_2j    (p_capacitive)\n",
      "\t\tEnergy fraction (Lj over Lj&Cj)= 55.80%\n",
      "\tjj              0.00145297  (+)        0.00115084\n",
      "\t\tEnergy fraction (Lj over Lj&Cj)= 9.36%\n",
      "\tinductor        0.000106728  (+)        0.00103407\n",
      "\t\t(U_tot_cap-U_tot_ind)/mean=99.39%\n",
      "WARNING: This simulation must not have converged well!!!                The difference in the total cap and ind energies is larger than 10%.                Proceed with caution.\n",
      "Calculating Qdielectric_main for mode 2 (2/2)\n",
      "p_dielectric_main_2 = 0.9220466655621818\n"
     ]
    },
    {
     "name": "stderr",
     "output_type": "stream",
     "text": [
      "WARNING 04:07PM [__init__]: <p>Error: <class 'IndexError'></p>\n",
      "ERROR 04:07PM [_get_participation_normalized]: WARNING: U_tot_cap-U_tot_ind / mean = 199.4% is > 15%.                     \n",
      "Is the simulation converged? Proceed with caution\n"
     ]
    },
    {
     "name": "stdout",
     "output_type": "stream",
     "text": [
      "\n",
      "ANALYSIS DONE. Data saved to:\n",
      "\n",
      "C:\\data-pyEPR\\Project12\\FluxoniumEPR_hfss\\2022-03-09 16-06-33.npz\n",
      "\n",
      "\n",
      "\t Differences in variations:\n",
      "\n",
      "\n",
      "\n",
      " . . . . . . . . . . . . . . . . . . . . . . . . . . . . . . . . . . . . . . . . \n",
      "Variation 0\n",
      "\n",
      "[1.635e-08 2.000e-07]\n",
      "[0]\n",
      "Using Full Cosine Potential\n",
      "ϕzpf mode 0 :  0.6561306371400848\n",
      "ϕzpf mode 1 :  0.00012048352790157151\n",
      "ϕzpf mode 2 :  0.04237922686097951\n",
      "Starting the diagonalization\n",
      "Finished the diagonalization\n",
      "(3, 1)\n",
      "Single junctions -- assuming single qubit mode\n"
     ]
    },
    {
     "name": "stderr",
     "output_type": "stream",
     "text": [
      "ERROR 04:07PM [_get_participation_normalized]: WARNING: U_tot_cap-U_tot_ind / mean = 199.4% is > 15%.                     \n",
      "Is the simulation converged? Proceed with caution\n"
     ]
    },
    {
     "name": "stdout",
     "output_type": "stream",
     "text": [
      "Pm_norm=\n",
      "modes\n",
      "0    1.212242e+00\n",
      "1    4.395899e+07\n",
      "2    6.406145e+02\n",
      "dtype: float64\n",
      "\n",
      "Pm_norm idx =\n",
      "      jj  inductor\n",
      "0   True     False\n",
      "1  False     False\n",
      "2  False     False\n",
      "*** P (participation matrix, not normlz.)\n",
      "             jj      inductor\n",
      "0  7.561731e-01  6.218648e-02\n",
      "1  2.126793e-08  1.407729e-09\n",
      "2  1.449802e-03  1.064958e-04\n",
      "\n",
      "*** S (sign-bit matrix)\n",
      "   s_jj  s_inductor\n",
      "0     1           1\n",
      "1     1           1\n",
      "2     1           1\n",
      "*** P (participation matrix, normalized.)\n",
      "      0.92\n",
      "   2.1e-08\n",
      "    0.0014\n",
      "\n",
      "*** Chi matrix O1 PT (MHz)\n",
      "    Diag is anharmonicity, off diag is full cross-Kerr.\n",
      "       926 6.25e-05     7.73\n",
      "  6.25e-05 1.05e-12 2.61e-07\n",
      "      7.73 2.61e-07   0.0161\n",
      "\n",
      "*** Chi matrix ND (MHz) \n",
      "  8.74e+03-6.73e-06   -0.682\n",
      " -6.73e-06 1.14e-10-8.21e-08\n",
      "    -0.682-8.21e-08  -0.0323\n",
      "\n",
      "*** Frequencies O1 PT (MHz)\n",
      "0     8460.366362\n",
      "1    13647.649349\n",
      "2    24766.069738\n",
      "dtype: float64\n",
      "\n",
      "*** Frequencies ND (MHz)\n",
      "0       53.063676\n",
      "1    13647.649359\n",
      "2    24766.167625\n",
      "dtype: float64\n",
      "\n",
      "*** Q_coupling\n",
      "Empty DataFrame\n",
      "Columns: []\n",
      "Index: [0, 1, 2]\n"
     ]
    },
    {
     "data": {
      "text/markdown": [
       "#### Mode frequencies (MHz)"
      ],
      "text/plain": [
       "<IPython.core.display.Markdown object>"
      ]
     },
     "metadata": {},
     "output_type": "display_data"
    },
    {
     "data": {
      "text/markdown": [
       "###### Numerical diagonalization"
      ],
      "text/plain": [
       "<IPython.core.display.Markdown object>"
      ]
     },
     "metadata": {},
     "output_type": "display_data"
    },
    {
     "data": {
      "text/html": [
       "<div>\n",
       "<style scoped>\n",
       "    .dataframe tbody tr th:only-of-type {\n",
       "        vertical-align: middle;\n",
       "    }\n",
       "\n",
       "    .dataframe tbody tr th {\n",
       "        vertical-align: top;\n",
       "    }\n",
       "\n",
       "    .dataframe thead th {\n",
       "        text-align: right;\n",
       "    }\n",
       "</style>\n",
       "<table border=\"1\" class=\"dataframe\">\n",
       "  <thead>\n",
       "    <tr style=\"text-align: right;\">\n",
       "      <th>Lj</th>\n",
       "      <th>16.35</th>\n",
       "    </tr>\n",
       "  </thead>\n",
       "  <tbody>\n",
       "    <tr>\n",
       "      <th>0</th>\n",
       "      <td>53.06</td>\n",
       "    </tr>\n",
       "    <tr>\n",
       "      <th>1</th>\n",
       "      <td>13647.65</td>\n",
       "    </tr>\n",
       "    <tr>\n",
       "      <th>2</th>\n",
       "      <td>24766.17</td>\n",
       "    </tr>\n",
       "  </tbody>\n",
       "</table>\n",
       "</div>"
      ],
      "text/plain": [
       "Lj     16.35\n",
       "0      53.06\n",
       "1   13647.65\n",
       "2   24766.17"
      ]
     },
     "metadata": {},
     "output_type": "display_data"
    },
    {
     "data": {
      "text/markdown": [
       "#### Kerr Non-linear coefficient table (MHz)"
      ],
      "text/plain": [
       "<IPython.core.display.Markdown object>"
      ]
     },
     "metadata": {},
     "output_type": "display_data"
    },
    {
     "data": {
      "text/markdown": [
       "###### Numerical diagonalization"
      ],
      "text/plain": [
       "<IPython.core.display.Markdown object>"
      ]
     },
     "metadata": {},
     "output_type": "display_data"
    },
    {
     "data": {
      "text/html": [
       "<div>\n",
       "<style scoped>\n",
       "    .dataframe tbody tr th:only-of-type {\n",
       "        vertical-align: middle;\n",
       "    }\n",
       "\n",
       "    .dataframe tbody tr th {\n",
       "        vertical-align: top;\n",
       "    }\n",
       "\n",
       "    .dataframe thead th {\n",
       "        text-align: right;\n",
       "    }\n",
       "</style>\n",
       "<table border=\"1\" class=\"dataframe\">\n",
       "  <thead>\n",
       "    <tr style=\"text-align: right;\">\n",
       "      <th></th>\n",
       "      <th></th>\n",
       "      <th>0</th>\n",
       "      <th>1</th>\n",
       "      <th>2</th>\n",
       "    </tr>\n",
       "    <tr>\n",
       "      <th>Lj</th>\n",
       "      <th></th>\n",
       "      <th></th>\n",
       "      <th></th>\n",
       "      <th></th>\n",
       "    </tr>\n",
       "  </thead>\n",
       "  <tbody>\n",
       "    <tr>\n",
       "      <th rowspan=\"3\" valign=\"top\">16.35</th>\n",
       "      <th>0</th>\n",
       "      <td>8.74e+03</td>\n",
       "      <td>-6.73e-06</td>\n",
       "      <td>-6.82e-01</td>\n",
       "    </tr>\n",
       "    <tr>\n",
       "      <th>1</th>\n",
       "      <td>-6.73e-06</td>\n",
       "      <td>1.14e-10</td>\n",
       "      <td>-8.21e-08</td>\n",
       "    </tr>\n",
       "    <tr>\n",
       "      <th>2</th>\n",
       "      <td>-6.82e-01</td>\n",
       "      <td>-8.21e-08</td>\n",
       "      <td>-3.23e-02</td>\n",
       "    </tr>\n",
       "  </tbody>\n",
       "</table>\n",
       "</div>"
      ],
      "text/plain": [
       "                0         1         2\n",
       "Lj                                   \n",
       "16.35 0  8.74e+03 -6.73e-06 -6.82e-01\n",
       "      1 -6.73e-06  1.14e-10 -8.21e-08\n",
       "      2 -6.82e-01 -8.21e-08 -3.23e-02"
      ]
     },
     "metadata": {},
     "output_type": "display_data"
    }
   ],
   "source": [
    "# eig_qb.run_epr()\n",
    "#### equivalent individual calls\n",
    "s = eig_qb.setup\n",
    "eig_qb.epr_start()\n",
    "eig_qb.get_stored_energy()\n",
    "eig_qb.run_analysis()\n",
    "eig_qb.spectrum_analysis(s.cos_trunc, s.fock_trunc, basis=s.basis, flux=s.flux, junctions=[0])\n",
    "eig_qb.report_hamiltonian(s.sweep_variable)"
   ]
  },
  {
   "cell_type": "code",
   "execution_count": null,
   "metadata": {},
   "outputs": [],
   "source": []
  }
 ],
 "metadata": {
  "kernelspec": {
   "display_name": "Python [conda env:metal]",
   "language": "python",
   "name": "conda-env-metal-py"
  },
  "language_info": {
   "codemirror_mode": {
    "name": "ipython",
    "version": 3
   },
   "file_extension": ".py",
   "mimetype": "text/x-python",
   "name": "python",
   "nbconvert_exporter": "python",
   "pygments_lexer": "ipython3",
   "version": "3.7.8"
  },
  "latex_envs": {
   "LaTeX_envs_menu_present": true,
   "autoclose": false,
   "autocomplete": true,
   "bibliofile": "biblio.bib",
   "cite_by": "apalike",
   "current_citInitial": 1,
   "eqLabelWithNumbers": true,
   "eqNumInitial": 1,
   "hotkeys": {
    "equation": "Ctrl-E",
    "itemize": "Ctrl-I"
   },
   "labels_anchors": false,
   "latex_user_defs": false,
   "report_style_numbering": false,
   "user_envs_cfg": false
  },
  "toc": {
   "base_numbering": 1,
   "nav_menu": {},
   "number_sections": true,
   "sideBar": true,
   "skip_h1_title": false,
   "title_cell": "Table of Contents",
   "title_sidebar": "Contents",
   "toc_cell": false,
   "toc_position": {},
   "toc_section_display": true,
   "toc_window_display": false
  }
 },
 "nbformat": 4,
 "nbformat_minor": 4
}
